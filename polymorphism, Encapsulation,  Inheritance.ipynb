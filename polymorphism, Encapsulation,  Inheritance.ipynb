{
 "cells": [
  {
   "cell_type": "code",
   "execution_count": null,
   "id": "603be8dc",
   "metadata": {},
   "outputs": [],
   "source": [
    "def test(a,b):\n",
    "    return a+b"
   ]
  },
  {
   "cell_type": "code",
   "execution_count": null,
   "id": "9227b61a",
   "metadata": {},
   "outputs": [],
   "source": [
    "test(4,6)"
   ]
  },
  {
   "cell_type": "code",
   "execution_count": null,
   "id": "be696e1d",
   "metadata": {},
   "outputs": [],
   "source": [
    "test(\"anu \",\"kumar\")"
   ]
  },
  {
   "cell_type": "code",
   "execution_count": null,
   "id": "0158e1a7",
   "metadata": {},
   "outputs": [],
   "source": [
    "test([1,2,4,6],[45,56,87,54])"
   ]
  },
  {
   "cell_type": "code",
   "execution_count": null,
   "id": "dffea954",
   "metadata": {},
   "outputs": [],
   "source": [
    "class data_science:\n",
    "    def syllabus(self):\n",
    "        print(\"This is my syllanus for data science masters\")"
   ]
  },
  {
   "cell_type": "code",
   "execution_count": null,
   "id": "8a5ba9f0",
   "metadata": {},
   "outputs": [],
   "source": [
    "class web_dev:\n",
    "    def syllabus(self):\n",
    "        print(\"this is my sullabus for web_dev\")"
   ]
  },
  {
   "cell_type": "code",
   "execution_count": null,
   "id": "538fb69a",
   "metadata": {},
   "outputs": [],
   "source": [
    "def class_parcer(class_obj):\n",
    "    for i in class_obj:\n",
    "        i.syllabus()"
   ]
  },
  {
   "cell_type": "code",
   "execution_count": null,
   "id": "4f1c1f9c",
   "metadata": {},
   "outputs": [],
   "source": [
    "data_science = data_science()"
   ]
  },
  {
   "cell_type": "code",
   "execution_count": null,
   "id": "afad5eb9",
   "metadata": {},
   "outputs": [],
   "source": [
    "web_dev = web_dev()"
   ]
  },
  {
   "cell_type": "code",
   "execution_count": null,
   "id": "9d271eda",
   "metadata": {},
   "outputs": [],
   "source": [
    "class_obj=[data_science, web_dev]\n"
   ]
  },
  {
   "cell_type": "code",
   "execution_count": null,
   "id": "2fcc767c",
   "metadata": {},
   "outputs": [],
   "source": [
    "class_parcer(class_obj)"
   ]
  },
  {
   "cell_type": "code",
   "execution_count": null,
   "id": "975d3a29",
   "metadata": {},
   "outputs": [],
   "source": []
  },
  {
   "cell_type": "code",
   "execution_count": null,
   "id": "c5f44fe9",
   "metadata": {},
   "outputs": [],
   "source": []
  },
  {
   "cell_type": "code",
   "execution_count": 2,
   "id": "04af5e5d",
   "metadata": {},
   "outputs": [],
   "source": [
    "\n",
    "class test :\n",
    "    def __init__(self,a,b):\n",
    "        self.a=a\n",
    "        self.b=b         "
   ]
  },
  {
   "cell_type": "code",
   "execution_count": null,
   "id": "dd408ea8",
   "metadata": {},
   "outputs": [],
   "source": []
  },
  {
   "cell_type": "code",
   "execution_count": 14,
   "id": "c1a04633",
   "metadata": {},
   "outputs": [],
   "source": [
    "class car:\n",
    "    def __init__(self,year,make,model,speed):\n",
    "        self.__year=year\n",
    "        self.__make=make\n",
    "        self.__model=model\n",
    "        self.__speed=0\n",
    "        \n",
    "    def set_speed(self,speed):\n",
    "        self.__speed=0 if speed<0 else speed\n",
    "        \n",
    "    def get_speed(self):\n",
    "        return self.__speed"
   ]
  },
  {
   "cell_type": "code",
   "execution_count": 15,
   "id": "d584957e",
   "metadata": {},
   "outputs": [],
   "source": [
    "c= car(2022,\"bmw\",\"thunder\",12)"
   ]
  },
  {
   "cell_type": "code",
   "execution_count": 16,
   "id": "c8febee4",
   "metadata": {},
   "outputs": [
    {
     "data": {
      "text/plain": [
       "2022"
      ]
     },
     "execution_count": 16,
     "metadata": {},
     "output_type": "execute_result"
    }
   ],
   "source": [
    "c._car__year"
   ]
  },
  {
   "cell_type": "code",
   "execution_count": 17,
   "id": "4a196eda",
   "metadata": {},
   "outputs": [
    {
     "data": {
      "text/plain": [
       "'bmw'"
      ]
     },
     "execution_count": 17,
     "metadata": {},
     "output_type": "execute_result"
    }
   ],
   "source": [
    "c._car__make"
   ]
  },
  {
   "cell_type": "code",
   "execution_count": null,
   "id": "0fb8a2b1",
   "metadata": {},
   "outputs": [],
   "source": []
  },
  {
   "cell_type": "code",
   "execution_count": 30,
   "id": "602d9af1",
   "metadata": {},
   "outputs": [],
   "source": [
    "class bank:\n",
    "    def __init__(self, balance):\n",
    "        self.__balance =balance\n",
    "     \n",
    "    def deposit(self, amount):\n",
    "        self.__balance =self.__blance + amount\n",
    "  \n",
    "    def withdaw(self,amount):\n",
    "        if self.__blance>=amount:\n",
    "            self.__blance=self.__blance-amount\n",
    "            return True\n",
    "        else:\n",
    "            return False\n",
    "        \n",
    "        def get_balance(self):\n",
    "            return self.__balance"
   ]
  },
  {
   "cell_type": "code",
   "execution_count": 29,
   "id": "96c795ee",
   "metadata": {},
   "outputs": [],
   "source": [
    "anu=bank(1000)"
   ]
  },
  {
   "cell_type": "code",
   "execution_count": null,
   "id": "f94fbe75",
   "metadata": {},
   "outputs": [],
   "source": []
  },
  {
   "cell_type": "code",
   "execution_count": null,
   "id": "f79794d2",
   "metadata": {},
   "outputs": [],
   "source": [
    "Inheritance"
   ]
  },
  {
   "cell_type": "code",
   "execution_count": 15,
   "id": "e9b4b5c4",
   "metadata": {},
   "outputs": [],
   "source": [
    "class text:\n",
    "    def text_meth(self):\n",
    "        return (\"this is my first class\")"
   ]
  },
  {
   "cell_type": "code",
   "execution_count": 16,
   "id": "fc91c1f8",
   "metadata": {},
   "outputs": [],
   "source": [
    "class child_text(text):\n",
    "    pass"
   ]
  },
  {
   "cell_type": "code",
   "execution_count": 17,
   "id": "cb0da4df",
   "metadata": {},
   "outputs": [],
   "source": [
    "child_text_obj =child_text()"
   ]
  },
  {
   "cell_type": "code",
   "execution_count": null,
   "id": "37574c0d",
   "metadata": {},
   "outputs": [],
   "source": []
  },
  {
   "cell_type": "code",
   "execution_count": 18,
   "id": "d26aee04",
   "metadata": {},
   "outputs": [
    {
     "data": {
      "text/plain": [
       "'this is my first class'"
      ]
     },
     "execution_count": 18,
     "metadata": {},
     "output_type": "execute_result"
    }
   ],
   "source": [
    "child_text_obj.text_meth()"
   ]
  },
  {
   "cell_type": "code",
   "execution_count": 19,
   "id": "0e8aaba1",
   "metadata": {},
   "outputs": [],
   "source": [
    "class text1:\n",
    "    def test_text1(self):\n",
    "        return \"this is a meth from class\""
   ]
  },
  {
   "cell_type": "code",
   "execution_count": 20,
   "id": "dceaf037",
   "metadata": {},
   "outputs": [],
   "source": [
    "class text2(text1):\n",
    "    def text_text2(self):\n",
    "        return \"this is a meth from class2\""
   ]
  },
  {
   "cell_type": "code",
   "execution_count": null,
   "id": "e73fd17e",
   "metadata": {},
   "outputs": [],
   "source": []
  },
  {
   "cell_type": "code",
   "execution_count": 22,
   "id": "16eaa315",
   "metadata": {},
   "outputs": [],
   "source": [
    "class text3(text2):\n",
    "    pass"
   ]
  },
  {
   "cell_type": "code",
   "execution_count": 24,
   "id": "32bb95ce",
   "metadata": {},
   "outputs": [],
   "source": [
    "obj_text3 =text3()"
   ]
  },
  {
   "cell_type": "code",
   "execution_count": 26,
   "id": "73fa97c7",
   "metadata": {},
   "outputs": [
    {
     "data": {
      "text/plain": [
       "'this is a meth from class'"
      ]
     },
     "execution_count": 26,
     "metadata": {},
     "output_type": "execute_result"
    }
   ],
   "source": [
    "obj_text3.test_text1()"
   ]
  },
  {
   "cell_type": "code",
   "execution_count": 27,
   "id": "fceaad54",
   "metadata": {},
   "outputs": [
    {
     "data": {
      "text/plain": [
       "'this is ameth from'"
      ]
     },
     "execution_count": 27,
     "metadata": {},
     "output_type": "execute_result"
    }
   ],
   "source": [
    "obj_text3.text_text2()"
   ]
  },
  {
   "cell_type": "code",
   "execution_count": 28,
   "id": "6028d808",
   "metadata": {},
   "outputs": [],
   "source": [
    "class run:\n",
    "    def run1(self):\n",
    "        return\"this is a class\""
   ]
  },
  {
   "cell_type": "code",
   "execution_count": 32,
   "id": "05c6b742",
   "metadata": {},
   "outputs": [],
   "source": [
    "class run2:\n",
    "    def run3(self):\n",
    "        return \"this is class2\""
   ]
  },
  {
   "cell_type": "code",
   "execution_count": null,
   "id": "ed61aeb4",
   "metadata": {},
   "outputs": [],
   "source": [
    "\n"
   ]
  },
  {
   "cell_type": "code",
   "execution_count": 33,
   "id": "268c1565",
   "metadata": {},
   "outputs": [],
   "source": [
    "class run4(run,run2):\n",
    "    pass"
   ]
  },
  {
   "cell_type": "code",
   "execution_count": 34,
   "id": "99b209d6",
   "metadata": {},
   "outputs": [],
   "source": [
    "obj_class =run4()"
   ]
  },
  {
   "cell_type": "code",
   "execution_count": 35,
   "id": "c8a8f06d",
   "metadata": {},
   "outputs": [
    {
     "data": {
      "text/plain": [
       "'this is class2'"
      ]
     },
     "execution_count": 35,
     "metadata": {},
     "output_type": "execute_result"
    }
   ],
   "source": [
    "obj_class.run3()"
   ]
  },
  {
   "cell_type": "code",
   "execution_count": 37,
   "id": "942ca840",
   "metadata": {},
   "outputs": [
    {
     "data": {
      "text/plain": [
       "'this is a class'"
      ]
     },
     "execution_count": 37,
     "metadata": {},
     "output_type": "execute_result"
    }
   ],
   "source": [
    "obj_class.run1()"
   ]
  },
  {
   "cell_type": "code",
   "execution_count": null,
   "id": "1aa4fb00",
   "metadata": {},
   "outputs": [],
   "source": []
  }
 ],
 "metadata": {
  "kernelspec": {
   "display_name": "Python 3 (ipykernel)",
   "language": "python",
   "name": "python3"
  },
  "language_info": {
   "codemirror_mode": {
    "name": "ipython",
    "version": 3
   },
   "file_extension": ".py",
   "mimetype": "text/x-python",
   "name": "python",
   "nbconvert_exporter": "python",
   "pygments_lexer": "ipython3",
   "version": "3.9.13"
  }
 },
 "nbformat": 4,
 "nbformat_minor": 5
}
