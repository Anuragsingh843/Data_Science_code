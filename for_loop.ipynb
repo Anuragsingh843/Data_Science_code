{
 "cells": [
  {
   "cell_type": "code",
   "execution_count": 1,
   "id": "7aeb4a09",
   "metadata": {},
   "outputs": [],
   "source": [
    "k=[1,2,3,4,5]"
   ]
  },
  {
   "cell_type": "code",
   "execution_count": 6,
   "id": "320af410",
   "metadata": {},
   "outputs": [
    {
     "name": "stdout",
     "output_type": "stream",
     "text": [
      "1 <class 'int'>\n",
      "2 <class 'int'>\n",
      "3 <class 'int'>\n",
      "4 <class 'int'>\n",
      "5 <class 'int'>\n"
     ]
    }
   ],
   "source": [
    "for i in k:\n",
    "    print(i,type(i))\n",
    "    "
   ]
  },
  {
   "cell_type": "code",
   "execution_count": 8,
   "id": "9f379101",
   "metadata": {},
   "outputs": [
    {
     "name": "stdout",
     "output_type": "stream",
     "text": [
      "anu <class 'list'>\n",
      "kumar <class 'list'>\n",
      "ani <class 'list'>\n"
     ]
    }
   ],
   "source": [
    "k1=[\"anu\",\"kumar\",\"ani\"]\n",
    "for i in k1:\n",
    "    print(i,type(k1))\n",
    "    "
   ]
  },
  {
   "cell_type": "code",
   "execution_count": 9,
   "id": "b8b06701",
   "metadata": {},
   "outputs": [
    {
     "data": {
      "text/plain": [
       "['anu', 'kumar', 'ani']"
      ]
     },
     "execution_count": 9,
     "metadata": {},
     "output_type": "execute_result"
    }
   ],
   "source": [
    "k1"
   ]
  },
  {
   "cell_type": "code",
   "execution_count": 12,
   "id": "4008fd63",
   "metadata": {},
   "outputs": [
    {
     "name": "stdout",
     "output_type": "stream",
     "text": [
      "anu\n",
      "kumar\n",
      "ani\n",
      "if for loop is able to complete itself then only else will execute\n"
     ]
    }
   ],
   "source": [
    "for i in k1:\n",
    "    print(i)\n",
    "else:\n",
    "    print(\"if for loop is able to complete itself then only else will execute\")"
   ]
  },
  {
   "cell_type": "code",
   "execution_count": 13,
   "id": "281b781d",
   "metadata": {},
   "outputs": [
    {
     "data": {
      "text/plain": [
       "['anu', 'kumar', 'ani']"
      ]
     },
     "execution_count": 13,
     "metadata": {},
     "output_type": "execute_result"
    }
   ],
   "source": [
    "k1"
   ]
  },
  {
   "cell_type": "code",
   "execution_count": 17,
   "id": "4e63d818",
   "metadata": {},
   "outputs": [
    {
     "name": "stdout",
     "output_type": "stream",
     "text": [
      "anu\n"
     ]
    }
   ],
   "source": [
    "for i in k1:\n",
    "    if i==\"kumar\":\n",
    "        break\n",
    "    print(i)    "
   ]
  },
  {
   "cell_type": "code",
   "execution_count": 25,
   "id": "bd914970",
   "metadata": {},
   "outputs": [
    {
     "data": {
      "text/plain": [
       "['anu', 'kumar', 'ani']"
      ]
     },
     "execution_count": 25,
     "metadata": {},
     "output_type": "execute_result"
    }
   ],
   "source": [
    "k1"
   ]
  },
  {
   "cell_type": "code",
   "execution_count": 34,
   "id": "1fef4426",
   "metadata": {},
   "outputs": [
    {
     "name": "stdout",
     "output_type": "stream",
     "text": [
      "anu\n",
      "kumar\n",
      "ani\n",
      "execute this if for loop is able to complete itself\n"
     ]
    }
   ],
   "source": [
    "for i in k1:\n",
    "    if i == \"Kumar\":\n",
    "                         break\n",
    "    print(i)\n",
    "else:        \n",
    "    print(\"execute this if for loop is able to complete itself\")   "
   ]
  },
  {
   "cell_type": "code",
   "execution_count": 35,
   "id": "82b938a9",
   "metadata": {},
   "outputs": [
    {
     "data": {
      "text/plain": [
       "['anu', 'kumar', 'ani']"
      ]
     },
     "execution_count": 35,
     "metadata": {},
     "output_type": "execute_result"
    }
   ],
   "source": [
    "k1"
   ]
  },
  {
   "cell_type": "code",
   "execution_count": 29,
   "id": "3acb1c8a",
   "metadata": {},
   "outputs": [
    {
     "name": "stdout",
     "output_type": "stream",
     "text": [
      "anu\n",
      "ani\n"
     ]
    }
   ],
   "source": [
    "for i in k1:\n",
    "    if i ==\"kumar\":\n",
    "        continue\n",
    "    print(i)    "
   ]
  },
  {
   "cell_type": "code",
   "execution_count": 30,
   "id": "8f842107",
   "metadata": {},
   "outputs": [
    {
     "name": "stdout",
     "output_type": "stream",
     "text": [
      "anu\n",
      "ani\n",
      "execute this if for loop is able to complete itself\n"
     ]
    }
   ],
   "source": [
    "for i in k1:\n",
    "    if i ==\"kumar\":\n",
    "        continue\n",
    "    print(i)    \n",
    "else:\n",
    "    print(\"execute this if for loop is able to complete itself\")"
   ]
  },
  {
   "cell_type": "code",
   "execution_count": 37,
   "id": "08276a1d",
   "metadata": {},
   "outputs": [
    {
     "data": {
      "text/plain": [
       "range(0, 5)"
      ]
     },
     "execution_count": 37,
     "metadata": {},
     "output_type": "execute_result"
    }
   ],
   "source": [
    "range(5)"
   ]
  },
  {
   "cell_type": "code",
   "execution_count": 39,
   "id": "0e3906dc",
   "metadata": {},
   "outputs": [
    {
     "data": {
      "text/plain": [
       "[0, 2, 4]"
      ]
     },
     "execution_count": 39,
     "metadata": {},
     "output_type": "execute_result"
    }
   ],
   "source": [
    "list(range(0,5,2))"
   ]
  },
  {
   "cell_type": "code",
   "execution_count": 45,
   "id": "76bfefd7",
   "metadata": {},
   "outputs": [
    {
     "data": {
      "text/plain": [
       "range(20, 2)"
      ]
     },
     "execution_count": 45,
     "metadata": {},
     "output_type": "execute_result"
    }
   ],
   "source": [
    "range(0,20,2)"
   ]
  },
  {
   "cell_type": "code",
   "execution_count": 47,
   "id": "3645db0e",
   "metadata": {},
   "outputs": [
    {
     "data": {
      "text/plain": [
       "[0, 2, 4, 6, 8, 10, 12, 14, 16, 18]"
      ]
     },
     "execution_count": 47,
     "metadata": {},
     "output_type": "execute_result"
    }
   ],
   "source": [
    "list(range(0,20,2))"
   ]
  },
  {
   "cell_type": "code",
   "execution_count": 48,
   "id": "6e4f2812",
   "metadata": {},
   "outputs": [
    {
     "data": {
      "text/plain": [
       "[-10, -9, -8, -7, -6, -5, -4, -3, -2, -1]"
      ]
     },
     "execution_count": 48,
     "metadata": {},
     "output_type": "execute_result"
    }
   ],
   "source": [
    "list(range(-10,0))"
   ]
  },
  {
   "cell_type": "code",
   "execution_count": 53,
   "id": "d6899130",
   "metadata": {},
   "outputs": [
    {
     "data": {
      "text/plain": [
       "['anu', 'kumar', 'ani']"
      ]
     },
     "execution_count": 53,
     "metadata": {},
     "output_type": "execute_result"
    }
   ],
   "source": [
    "k1"
   ]
  },
  {
   "cell_type": "code",
   "execution_count": 56,
   "id": "73bb01ec",
   "metadata": {},
   "outputs": [
    {
     "name": "stdout",
     "output_type": "stream",
     "text": [
      "anu\n",
      "kumar\n",
      "ani\n"
     ]
    }
   ],
   "source": [
    "for i in range(len(k1)):\n",
    "    print(k1[i])\n",
    "    "
   ]
  },
  {
   "cell_type": "code",
   "execution_count": 61,
   "id": "73d615f8",
   "metadata": {},
   "outputs": [
    {
     "data": {
      "text/plain": [
       "['anu', 'kumar', 'ani']"
      ]
     },
     "execution_count": 61,
     "metadata": {},
     "output_type": "execute_result"
    }
   ],
   "source": [
    "k1 \n"
   ]
  },
  {
   "cell_type": "code",
   "execution_count": 62,
   "id": "74683363",
   "metadata": {},
   "outputs": [
    {
     "name": "stdout",
     "output_type": "stream",
     "text": [
      "ani\n",
      "kumar\n",
      "anu\n"
     ]
    }
   ],
   "source": [
    "for i in range(len(k1)-1,-1,-1):\n",
    "    print(k1[i])\n",
    "    "
   ]
  },
  {
   "cell_type": "code",
   "execution_count": 65,
   "id": "9c3b4cf2",
   "metadata": {},
   "outputs": [
    {
     "name": "stdout",
     "output_type": "stream",
     "text": [
      "12\n",
      "4\n",
      "78\n",
      "5\n",
      "87\n"
     ]
    }
   ],
   "source": [
    "k2=[12,25,4,5,78,6,5,78,87,457]\n",
    "for i in range(0,len(k2),2):\n",
    "    print(k2[i])"
   ]
  },
  {
   "cell_type": "code",
   "execution_count": 66,
   "id": "f97ebbc6",
   "metadata": {},
   "outputs": [
    {
     "data": {
      "text/plain": [
       "[12, 25, 4, 5, 78, 6, 5, 78, 87, 457]"
      ]
     },
     "execution_count": 66,
     "metadata": {},
     "output_type": "execute_result"
    }
   ],
   "source": [
    "k2"
   ]
  },
  {
   "cell_type": "code",
   "execution_count": 69,
   "id": "47ea3cb2",
   "metadata": {},
   "outputs": [
    {
     "data": {
      "text/plain": [
       "99"
      ]
     },
     "execution_count": 69,
     "metadata": {},
     "output_type": "execute_result"
    }
   ],
   "source": [
    "k3=[1,2,3,4,5,6,78]\n",
    "sum(k3)"
   ]
  },
  {
   "cell_type": "code",
   "execution_count": 68,
   "id": "ec6ec305",
   "metadata": {},
   "outputs": [
    {
     "name": "stdout",
     "output_type": "stream",
     "text": [
      "99\n"
     ]
    }
   ],
   "source": [
    "result=0\n",
    "for i in k3:\n",
    "    result=result+i\n",
    "print(result)    \n",
    "    "
   ]
  },
  {
   "cell_type": "code",
   "execution_count": 71,
   "id": "8729859e",
   "metadata": {},
   "outputs": [
    {
     "name": "stdout",
     "output_type": "stream",
     "text": [
      "1\n",
      "2\n",
      "3\n",
      "4\n",
      "5\n"
     ]
    }
   ],
   "source": [
    "t=(1,2,3,4,5)\n",
    "for i in t:\n",
    "    print(i)"
   ]
  },
  {
   "cell_type": "code",
   "execution_count": 72,
   "id": "9ee0d2d8",
   "metadata": {},
   "outputs": [
    {
     "name": "stdout",
     "output_type": "stream",
     "text": [
      "15\n"
     ]
    }
   ],
   "source": [
    "result=0\n",
    "for i in t:\n",
    "    result=result+i\n",
    "print(result)    \n",
    "    "
   ]
  },
  {
   "cell_type": "code",
   "execution_count": 74,
   "id": "65d894cb",
   "metadata": {},
   "outputs": [
    {
     "name": "stdout",
     "output_type": "stream",
     "text": [
      "1\n",
      "2\n",
      "3\n",
      "4\n",
      "5\n",
      "pwskills\n",
      "kumar\n"
     ]
    }
   ],
   "source": [
    "h={1,2,3,4,5,\"pwskills\",\"kumar\"}\n",
    "for i in h:\n",
    "    print(i)\n"
   ]
  },
  {
   "cell_type": "code",
   "execution_count": 75,
   "id": "679ec670",
   "metadata": {},
   "outputs": [],
   "source": [
    "s1=\"pwskills\""
   ]
  },
  {
   "cell_type": "code",
   "execution_count": 77,
   "id": "c2352e4d",
   "metadata": {},
   "outputs": [
    {
     "name": "stdout",
     "output_type": "stream",
     "text": [
      "p\n",
      "w\n",
      "s\n",
      "k\n",
      "i\n",
      "l\n",
      "l\n",
      "s\n"
     ]
    }
   ],
   "source": [
    "for i in s1:\n",
    "    print(i)"
   ]
  },
  {
   "cell_type": "code",
   "execution_count": 79,
   "id": "28b67310",
   "metadata": {},
   "outputs": [
    {
     "name": "stdout",
     "output_type": "stream",
     "text": [
      "p\n",
      "s\n",
      "i\n",
      "l\n"
     ]
    }
   ],
   "source": [
    "for i in range(0,len(s1),2):\n",
    "    print(s1[i])"
   ]
  },
  {
   "cell_type": "raw",
   "id": "fb31d2aa",
   "metadata": {},
   "source": [
    "r1 = {\"mame\":\"anu\",\"class\":\"data science\",\"topic\":[\"python\",\"statics\",\n",
    "      \"machine learning\"]}"
   ]
  },
  {
   "cell_type": "raw",
   "id": "dbe0d436",
   "metadata": {},
   "source": [
    "print(\"name\")"
   ]
  },
  {
   "cell_type": "code",
   "execution_count": 84,
   "id": "7a2e031e",
   "metadata": {},
   "outputs": [
    {
     "ename": "NameError",
     "evalue": "name 'r1' is not defined",
     "output_type": "error",
     "traceback": [
      "\u001b[1;31m---------------------------------------------------------------------------\u001b[0m",
      "\u001b[1;31mNameError\u001b[0m                                 Traceback (most recent call last)",
      "\u001b[1;32m~\\AppData\\Local\\Temp\\ipykernel_16876\\942834496.py\u001b[0m in \u001b[0;36m<module>\u001b[1;34m\u001b[0m\n\u001b[1;32m----> 1\u001b[1;33m \u001b[1;32mfor\u001b[0m \u001b[0mi\u001b[0m \u001b[1;32min\u001b[0m \u001b[0mr1\u001b[0m\u001b[1;33m.\u001b[0m\u001b[0mitem\u001b[0m\u001b[1;33m(\u001b[0m\u001b[1;33m)\u001b[0m\u001b[1;33m:\u001b[0m\u001b[1;33m\u001b[0m\u001b[1;33m\u001b[0m\u001b[0m\n\u001b[0m\u001b[0;32m      2\u001b[0m     \u001b[0mprint\u001b[0m\u001b[1;33m(\u001b[0m\u001b[0mi\u001b[0m\u001b[1;33m)\u001b[0m\u001b[1;33m\u001b[0m\u001b[1;33m\u001b[0m\u001b[0m\n",
      "\u001b[1;31mNameError\u001b[0m: name 'r1' is not defined"
     ]
    }
   ],
   "source": [
    "for i in r1.item():\n",
    "    print(i)"
   ]
  },
  {
   "cell_type": "code",
   "execution_count": null,
   "id": "d83b921c",
   "metadata": {},
   "outputs": [],
   "source": []
  }
 ],
 "metadata": {
  "kernelspec": {
   "display_name": "Python 3 (ipykernel)",
   "language": "python",
   "name": "python3"
  },
  "language_info": {
   "codemirror_mode": {
    "name": "ipython",
    "version": 3
   },
   "file_extension": ".py",
   "mimetype": "text/x-python",
   "name": "python",
   "nbconvert_exporter": "python",
   "pygments_lexer": "ipython3",
   "version": "3.9.13"
  }
 },
 "nbformat": 4,
 "nbformat_minor": 5
}
