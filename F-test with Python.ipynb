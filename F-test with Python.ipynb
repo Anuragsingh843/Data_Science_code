{
 "cells": [
  {
   "cell_type": "code",
   "execution_count": 1,
   "id": "4cfbd577",
   "metadata": {},
   "outputs": [],
   "source": [
    "#evidence to say that the two population variance are not equal.\n",
    "\n",
    "worker1 =[18,19,22,25,27,28,41,45,51,55]\n",
    "worker2 =[14,15,15,17,18,22,25,25,27,34]"
   ]
  },
  {
   "cell_type": "code",
   "execution_count": 5,
   "id": "3f3af98e",
   "metadata": {},
   "outputs": [
    {
     "name": "stdout",
     "output_type": "stream",
     "text": [
      "4.387122002085506\n"
     ]
    }
   ],
   "source": [
    "#calaculating F-test\n",
    "import numpy as np\n",
    "f_test=np.var(worker1)/np.var(worker2)\n",
    "print(f_test)"
   ]
  },
  {
   "cell_type": "code",
   "execution_count": 14,
   "id": "a9f8e597",
   "metadata": {},
   "outputs": [],
   "source": [
    "## Degree of freedom\n",
    "\n",
    "df1=len(worker1)-1\n",
    "df2=len(worker2)-1\n",
    "signifance_value=0.05"
   ]
  },
  {
   "cell_type": "code",
   "execution_count": 15,
   "id": "91d83469",
   "metadata": {},
   "outputs": [],
   "source": [
    "import scipy.stats as stat"
   ]
  },
  {
   "cell_type": "code",
   "execution_count": 18,
   "id": "56835115",
   "metadata": {},
   "outputs": [],
   "source": [
    "critical_value= stat.f.ppf(q=1-signifance_value,dfn=df1, dfd= df2)"
   ]
  },
  {
   "cell_type": "code",
   "execution_count": 19,
   "id": "121f3af1",
   "metadata": {},
   "outputs": [
    {
     "data": {
      "text/plain": [
       "3.178893104458269"
      ]
     },
     "execution_count": 19,
     "metadata": {},
     "output_type": "execute_result"
    }
   ],
   "source": [
    "critical_value"
   ]
  },
  {
   "cell_type": "code",
   "execution_count": 20,
   "id": "4b084391",
   "metadata": {},
   "outputs": [
    {
     "name": "stdout",
     "output_type": "stream",
     "text": [
      "Reject the null hypothesis\n"
     ]
    }
   ],
   "source": [
    "if f_test > critical_value:\n",
    "    print(\"Reject the null hypothesis\")\n",
    "else:\n",
    "    print(\"we fail to reject the null hypothesis\")"
   ]
  },
  {
   "cell_type": "code",
   "execution_count": 22,
   "id": "3f2ae786",
   "metadata": {},
   "outputs": [],
   "source": [
    "# conclusion\n",
    "#Both workers the performance is different "
   ]
  },
  {
   "cell_type": "code",
   "execution_count": null,
   "id": "c5ee14f6",
   "metadata": {},
   "outputs": [],
   "source": []
  }
 ],
 "metadata": {
  "kernelspec": {
   "display_name": "Python 3 (ipykernel)",
   "language": "python",
   "name": "python3"
  },
  "language_info": {
   "codemirror_mode": {
    "name": "ipython",
    "version": 3
   },
   "file_extension": ".py",
   "mimetype": "text/x-python",
   "name": "python",
   "nbconvert_exporter": "python",
   "pygments_lexer": "ipython3",
   "version": "3.9.13"
  }
 },
 "nbformat": 4,
 "nbformat_minor": 5
}
