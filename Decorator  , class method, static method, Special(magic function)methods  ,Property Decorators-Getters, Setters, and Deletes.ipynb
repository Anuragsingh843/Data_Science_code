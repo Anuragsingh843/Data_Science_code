{
 "cells": [
  {
   "cell_type": "code",
   "execution_count": null,
   "id": "ff66838d",
   "metadata": {},
   "outputs": [],
   "source": [
    "def test():\n",
    "    print(\"this is funtion to test \")"
   ]
  },
  {
   "cell_type": "code",
   "execution_count": null,
   "id": "277bc82c",
   "metadata": {},
   "outputs": [],
   "source": [
    "test()"
   ]
  },
  {
   "cell_type": "code",
   "execution_count": null,
   "id": "cc43d3ee",
   "metadata": {},
   "outputs": [],
   "source": [
    "def deco(func):\n",
    "    def inner_dec():\n",
    "        print(\"this is the start of my fun\")\n",
    "        func()\n",
    "        print(\"this is the end of my fun:\")\n",
    "    return inner_dec   "
   ]
  },
  {
   "cell_type": "code",
   "execution_count": null,
   "id": "76616b2e",
   "metadata": {},
   "outputs": [],
   "source": [
    "@deco\n",
    "def test1():\n",
    "    print(6+7)"
   ]
  },
  {
   "cell_type": "code",
   "execution_count": null,
   "id": "d8230128",
   "metadata": {},
   "outputs": [],
   "source": [
    "test1()"
   ]
  },
  {
   "cell_type": "code",
   "execution_count": null,
   "id": "cdccb4ba",
   "metadata": {},
   "outputs": [],
   "source": [
    "import time\n",
    "  \n",
    "    \n",
    "def timer_test(func):\n",
    "    def timer_test_inner():\n",
    "        start =time.time()\n",
    "        func()\n",
    "        end =time.time()\n",
    "        print(end-start)\n",
    "    return timer_test_inner    "
   ]
  },
  {
   "cell_type": "code",
   "execution_count": null,
   "id": "1f9ce737",
   "metadata": {},
   "outputs": [],
   "source": [
    "@timer_test\n",
    "def test4():\n",
    "    print(45+5454)"
   ]
  },
  {
   "cell_type": "code",
   "execution_count": null,
   "id": "e55aa61b",
   "metadata": {},
   "outputs": [],
   "source": [
    "test4()"
   ]
  },
  {
   "cell_type": "code",
   "execution_count": null,
   "id": "c468de0a",
   "metadata": {},
   "outputs": [],
   "source": [
    "@timer_test\n",
    "def test2():\n",
    "    for i in range(1000000000000):\n",
    "        pass"
   ]
  },
  {
   "cell_type": "code",
   "execution_count": null,
   "id": "156b4b2f",
   "metadata": {},
   "outputs": [],
   "source": [
    "test2()"
   ]
  },
  {
   "cell_type": "code",
   "execution_count": null,
   "id": "37a212b8",
   "metadata": {},
   "outputs": [],
   "source": [
    "class method:--"
   ]
  },
  {
   "cell_type": "code",
   "execution_count": null,
   "id": "2ca97cd4",
   "metadata": {},
   "outputs": [],
   "source": [
    "class pwskills:\n",
    "    def __init__(self,name,phone_number):\n",
    "        self.name=name\n",
    "        self.phone_number=phone_number\n",
    "    \n",
    "    \n",
    "    def students_details(self):\n",
    "        print(self.name  , self.phone_number)"
   ]
  },
  {
   "cell_type": "code",
   "execution_count": null,
   "id": "a100f9d8",
   "metadata": {},
   "outputs": [],
   "source": [
    "pw =pwskills(\"amar\", 7845879545)"
   ]
  },
  {
   "cell_type": "code",
   "execution_count": null,
   "id": "f31af2a7",
   "metadata": {},
   "outputs": [],
   "source": [
    "pw.name"
   ]
  },
  {
   "cell_type": "code",
   "execution_count": null,
   "id": "2d18993c",
   "metadata": {},
   "outputs": [],
   "source": [
    "pw.phone_number"
   ]
  },
  {
   "cell_type": "code",
   "execution_count": 1,
   "id": "8e54270c",
   "metadata": {},
   "outputs": [],
   "source": [
    "class pwskills:\n",
    "    def __init__(self,name,phone_number):\n",
    "        self.name=name\n",
    "        self.phone_number=phone_number\n",
    "    @classmethod    \n",
    "    def details(cls,name,phone_number):\n",
    "        return cls(name,phone_number)\n",
    "    \n",
    "    def students_details(self):\n",
    "        print(self.name  , self.phone_number)"
   ]
  },
  {
   "cell_type": "code",
   "execution_count": 2,
   "id": "92053994",
   "metadata": {},
   "outputs": [],
   "source": [
    "pw1=pwskills.details(\"anu\",5488975425)"
   ]
  },
  {
   "cell_type": "code",
   "execution_count": 3,
   "id": "92a22b2d",
   "metadata": {},
   "outputs": [
    {
     "data": {
      "text/plain": [
       "'anu'"
      ]
     },
     "execution_count": 3,
     "metadata": {},
     "output_type": "execute_result"
    }
   ],
   "source": [
    "pw1.name"
   ]
  },
  {
   "cell_type": "code",
   "execution_count": 4,
   "id": "ae618746",
   "metadata": {},
   "outputs": [
    {
     "data": {
      "text/plain": [
       "5488975425"
      ]
     },
     "execution_count": 4,
     "metadata": {},
     "output_type": "execute_result"
    }
   ],
   "source": [
    "pw1.phone_number"
   ]
  },
  {
   "cell_type": "code",
   "execution_count": 14,
   "id": "070c0a97",
   "metadata": {},
   "outputs": [],
   "source": [
    "class pwskills1:\n",
    "    \n",
    "    mobil_num=154857461\n",
    "    def __init__(self,name,phone_number):\n",
    "        self.name=name\n",
    "        self.phone_number=phone_number\n",
    "    @classmethod\n",
    "    def change_number(cls,mobile):\n",
    "        pwskills1.mobil_num=mobile\n",
    "        \n",
    "    @classmethod    \n",
    "    def details(cls,name,phone_number):\n",
    "        return cls(name,phone_number)\n",
    "    \n",
    "    def students_details(self):\n",
    "        print(self.name  , self.phone_number,pwskills1.mobile_num)"
   ]
  },
  {
   "cell_type": "code",
   "execution_count": 17,
   "id": "f57ff7f6",
   "metadata": {},
   "outputs": [],
   "source": [
    "pw_obj =pwskills1(\"anu\",545254565)"
   ]
  },
  {
   "cell_type": "code",
   "execution_count": 18,
   "id": "65cae421",
   "metadata": {},
   "outputs": [
    {
     "data": {
      "text/plain": [
       "21546235"
      ]
     },
     "execution_count": 18,
     "metadata": {},
     "output_type": "execute_result"
    }
   ],
   "source": [
    "pwskills1.mobil_num"
   ]
  },
  {
   "cell_type": "code",
   "execution_count": 19,
   "id": "78a3f12c",
   "metadata": {},
   "outputs": [],
   "source": [
    "pwskills1. change_number(21546235)"
   ]
  },
  {
   "cell_type": "code",
   "execution_count": 20,
   "id": "8e99ad39",
   "metadata": {},
   "outputs": [],
   "source": [
    " class pwskills2:\n",
    "    \n",
    "    mobil_num=154857461\n",
    "    def __init__(self,name,phone_number):\n",
    "        self.name=name\n",
    "        self.phone_number=phone_number\n",
    "    @classmethod\n",
    "    def change_number(cls,mobile):\n",
    "        pwskills2.mobil_num=mobile\n",
    "        \n",
    "    @classmethod    \n",
    "    def details(cls,name,phone_number):\n",
    "        return cls(name,phone_number)\n",
    "    \n",
    "    def students_details(self):\n",
    "        print(self.name  , self.phone_number,pwskills1.mobile_num)"
   ]
  },
  {
   "cell_type": "code",
   "execution_count": 22,
   "id": "bbd3ef58",
   "metadata": {},
   "outputs": [],
   "source": [
    "def course_details(cls,course_name):\n",
    "    print(\"cousre name is\", course_name)"
   ]
  },
  {
   "cell_type": "code",
   "execution_count": 24,
   "id": "6921ee72",
   "metadata": {},
   "outputs": [],
   "source": [
    "pwskills2.course_details=classmethod(course_details)"
   ]
  },
  {
   "cell_type": "code",
   "execution_count": 25,
   "id": "30fa3eff",
   "metadata": {},
   "outputs": [
    {
     "name": "stdout",
     "output_type": "stream",
     "text": [
      "cousre name is data science masters\n"
     ]
    }
   ],
   "source": [
    "pwskills2.course_details(\"data science masters\")"
   ]
  },
  {
   "cell_type": "code",
   "execution_count": 28,
   "id": "ac85744d",
   "metadata": {},
   "outputs": [],
   "source": [
    "def mentor(cls,list_of_mentor):\n",
    "    print(list_of_mentor)"
   ]
  },
  {
   "cell_type": "code",
   "execution_count": 29,
   "id": "66b34df8",
   "metadata": {},
   "outputs": [],
   "source": [
    "pwskills2.mentor=classmethod(mentor)"
   ]
  },
  {
   "cell_type": "code",
   "execution_count": 31,
   "id": "4c432ff3",
   "metadata": {},
   "outputs": [
    {
     "name": "stdout",
     "output_type": "stream",
     "text": [
      "['anurag', 'kumar']\n"
     ]
    }
   ],
   "source": [
    "pwskills2.mentor([\"anurag\",\"kumar\"])"
   ]
  },
  {
   "cell_type": "code",
   "execution_count": 37,
   "id": "33d554c2",
   "metadata": {},
   "outputs": [],
   "source": [
    " class pwskills4:\n",
    "    \n",
    "    mobil_num=154857461\n",
    "    def __init__(self,name,phone_number):\n",
    "        self.name=name\n",
    "        self.phone_number=phone_number\n",
    "    @classmethod\n",
    "    def change_number(cls,mobile):\n",
    "        pwskills2.mobil_num=mobile\n",
    "        \n",
    "    @classmethod    \n",
    "    def details(cls,name,phone_number):\n",
    "        return cls(name,phone_number)\n",
    "    \n",
    "    def students_details(self):\n",
    "        print(self.name  , self.phone_number,pwskills1.mobile_num)"
   ]
  },
  {
   "cell_type": "code",
   "execution_count": 38,
   "id": "ea9625de",
   "metadata": {},
   "outputs": [],
   "source": [
    "del pwskills4.change_number"
   ]
  },
  {
   "cell_type": "code",
   "execution_count": 39,
   "id": "6505a828",
   "metadata": {},
   "outputs": [],
   "source": [
    "delattr(pwskills4,\"details\")"
   ]
  },
  {
   "cell_type": "code",
   "execution_count": null,
   "id": "0cd43501",
   "metadata": {},
   "outputs": [],
   "source": []
  },
  {
   "cell_type": "code",
   "execution_count": null,
   "id": "93d8a234",
   "metadata": {},
   "outputs": [],
   "source": [
    "staic method:=="
   ]
  },
  {
   "cell_type": "code",
   "execution_count": 43,
   "id": "faf252ed",
   "metadata": {},
   "outputs": [],
   "source": [
    "class pwskill:\n",
    "    def student_details(self,name,mail_id,number):\n",
    "        print(name,mail_id,number)"
   ]
  },
  {
   "cell_type": "code",
   "execution_count": 45,
   "id": "35472bcd",
   "metadata": {},
   "outputs": [],
   "source": [
    "pw =pwskill()"
   ]
  },
  {
   "cell_type": "code",
   "execution_count": 46,
   "id": "9b78567b",
   "metadata": {},
   "outputs": [
    {
     "name": "stdout",
     "output_type": "stream",
     "text": [
      "anurag anurag@gmail 2456432\n"
     ]
    }
   ],
   "source": [
    "pw.student_details(\"anurag\",\"anurag@gmail\",2456432)"
   ]
  },
  {
   "cell_type": "code",
   "execution_count": 78,
   "id": "5baff557",
   "metadata": {},
   "outputs": [],
   "source": [
    "class pwskill:\n",
    "    def student_details(self,name,mail_id,number):\n",
    "        print(name,mail_id,number)\n",
    "    @staticmethod\n",
    "    def mentor_mail(mail_id):\n",
    "   \n",
    "     @staticmethod\n",
    "     def mentor_class(list_mentor):\n",
    "        pwskill.mentor_mail(\"anurah@kumar\")\n",
    "        print(list_mentor)\n",
    "    \n",
    "   \n",
    "    @classmethod   \n",
    "    def class_name(cls):\n",
    "        cls.mentor_class([\"anurag\"])\n",
    "    def mentor(self,mentor_list):\n",
    "        print(mentor_list)"
   ]
  },
  {
   "cell_type": "code",
   "execution_count": 72,
   "id": "f73f223a",
   "metadata": {},
   "outputs": [
    {
     "name": "stdout",
     "output_type": "stream",
     "text": [
      "['anurag']\n"
     ]
    }
   ],
   "source": [
    "pwskill.class_name()"
   ]
  },
  {
   "cell_type": "code",
   "execution_count": 65,
   "id": "b682f9ee",
   "metadata": {},
   "outputs": [
    {
     "name": "stdout",
     "output_type": "stream",
     "text": [
      "['sudh', 'anu']\n"
     ]
    }
   ],
   "source": [
    "pwskill.mentor_class([\"sudh\",\"anu\"])"
   ]
  },
  {
   "cell_type": "code",
   "execution_count": 66,
   "id": "e0c48042",
   "metadata": {},
   "outputs": [],
   "source": [
    "stu1 =pwskill()"
   ]
  },
  {
   "cell_type": "code",
   "execution_count": 67,
   "id": "c4ec408d",
   "metadata": {},
   "outputs": [],
   "source": [
    "stu2 =pwskill()"
   ]
  },
  {
   "cell_type": "code",
   "execution_count": 68,
   "id": "1bd6932c",
   "metadata": {},
   "outputs": [
    {
     "name": "stdout",
     "output_type": "stream",
     "text": [
      "['sudh', 'anu']\n"
     ]
    }
   ],
   "source": [
    "stu1.mentor([\"sudh\",\"anu\"])"
   ]
  },
  {
   "cell_type": "code",
   "execution_count": null,
   "id": "a17dbec5",
   "metadata": {},
   "outputs": [],
   "source": [
    "\n"
   ]
  },
  {
   "cell_type": "code",
   "execution_count": 79,
   "id": "6eb7a348",
   "metadata": {},
   "outputs": [
    {
     "data": {
      "text/plain": [
       "['__abs__',\n",
       " '__add__',\n",
       " '__and__',\n",
       " '__bool__',\n",
       " '__ceil__',\n",
       " '__class__',\n",
       " '__delattr__',\n",
       " '__dir__',\n",
       " '__divmod__',\n",
       " '__doc__',\n",
       " '__eq__',\n",
       " '__float__',\n",
       " '__floor__',\n",
       " '__floordiv__',\n",
       " '__format__',\n",
       " '__ge__',\n",
       " '__getattribute__',\n",
       " '__getnewargs__',\n",
       " '__gt__',\n",
       " '__hash__',\n",
       " '__index__',\n",
       " '__init__',\n",
       " '__init_subclass__',\n",
       " '__int__',\n",
       " '__invert__',\n",
       " '__le__',\n",
       " '__lshift__',\n",
       " '__lt__',\n",
       " '__mod__',\n",
       " '__mul__',\n",
       " '__ne__',\n",
       " '__neg__',\n",
       " '__new__',\n",
       " '__or__',\n",
       " '__pos__',\n",
       " '__pow__',\n",
       " '__radd__',\n",
       " '__rand__',\n",
       " '__rdivmod__',\n",
       " '__reduce__',\n",
       " '__reduce_ex__',\n",
       " '__repr__',\n",
       " '__rfloordiv__',\n",
       " '__rlshift__',\n",
       " '__rmod__',\n",
       " '__rmul__',\n",
       " '__ror__',\n",
       " '__round__',\n",
       " '__rpow__',\n",
       " '__rrshift__',\n",
       " '__rshift__',\n",
       " '__rsub__',\n",
       " '__rtruediv__',\n",
       " '__rxor__',\n",
       " '__setattr__',\n",
       " '__sizeof__',\n",
       " '__str__',\n",
       " '__sub__',\n",
       " '__subclasshook__',\n",
       " '__truediv__',\n",
       " '__trunc__',\n",
       " '__xor__',\n",
       " 'as_integer_ratio',\n",
       " 'bit_length',\n",
       " 'conjugate',\n",
       " 'denominator',\n",
       " 'from_bytes',\n",
       " 'imag',\n",
       " 'numerator',\n",
       " 'real',\n",
       " 'to_bytes']"
      ]
     },
     "execution_count": 79,
     "metadata": {},
     "output_type": "execute_result"
    }
   ],
   "source": [
    "dir(int)"
   ]
  },
  {
   "cell_type": "code",
   "execution_count": 80,
   "id": "03ad2673",
   "metadata": {},
   "outputs": [
    {
     "data": {
      "text/plain": [
       "['__add__',\n",
       " '__class__',\n",
       " '__contains__',\n",
       " '__delattr__',\n",
       " '__dir__',\n",
       " '__doc__',\n",
       " '__eq__',\n",
       " '__format__',\n",
       " '__ge__',\n",
       " '__getattribute__',\n",
       " '__getitem__',\n",
       " '__getnewargs__',\n",
       " '__gt__',\n",
       " '__hash__',\n",
       " '__init__',\n",
       " '__init_subclass__',\n",
       " '__iter__',\n",
       " '__le__',\n",
       " '__len__',\n",
       " '__lt__',\n",
       " '__mod__',\n",
       " '__mul__',\n",
       " '__ne__',\n",
       " '__new__',\n",
       " '__reduce__',\n",
       " '__reduce_ex__',\n",
       " '__repr__',\n",
       " '__rmod__',\n",
       " '__rmul__',\n",
       " '__setattr__',\n",
       " '__sizeof__',\n",
       " '__str__',\n",
       " '__subclasshook__',\n",
       " 'capitalize',\n",
       " 'casefold',\n",
       " 'center',\n",
       " 'count',\n",
       " 'encode',\n",
       " 'endswith',\n",
       " 'expandtabs',\n",
       " 'find',\n",
       " 'format',\n",
       " 'format_map',\n",
       " 'index',\n",
       " 'isalnum',\n",
       " 'isalpha',\n",
       " 'isascii',\n",
       " 'isdecimal',\n",
       " 'isdigit',\n",
       " 'isidentifier',\n",
       " 'islower',\n",
       " 'isnumeric',\n",
       " 'isprintable',\n",
       " 'isspace',\n",
       " 'istitle',\n",
       " 'isupper',\n",
       " 'join',\n",
       " 'ljust',\n",
       " 'lower',\n",
       " 'lstrip',\n",
       " 'maketrans',\n",
       " 'partition',\n",
       " 'removeprefix',\n",
       " 'removesuffix',\n",
       " 'replace',\n",
       " 'rfind',\n",
       " 'rindex',\n",
       " 'rjust',\n",
       " 'rpartition',\n",
       " 'rsplit',\n",
       " 'rstrip',\n",
       " 'split',\n",
       " 'splitlines',\n",
       " 'startswith',\n",
       " 'strip',\n",
       " 'swapcase',\n",
       " 'title',\n",
       " 'translate',\n",
       " 'upper',\n",
       " 'zfill']"
      ]
     },
     "execution_count": 80,
     "metadata": {},
     "output_type": "execute_result"
    }
   ],
   "source": [
    "dir(str)"
   ]
  },
  {
   "cell_type": "code",
   "execution_count": 81,
   "id": "6d850543",
   "metadata": {},
   "outputs": [
    {
     "data": {
      "text/plain": [
       "105"
      ]
     },
     "execution_count": 81,
     "metadata": {},
     "output_type": "execute_result"
    }
   ],
   "source": [
    "a=100\n",
    "a+5"
   ]
  },
  {
   "cell_type": "code",
   "execution_count": 82,
   "id": "0440427d",
   "metadata": {},
   "outputs": [
    {
     "data": {
      "text/plain": [
       "105"
      ]
     },
     "execution_count": 82,
     "metadata": {},
     "output_type": "execute_result"
    }
   ],
   "source": [
    "a.__add__(5)"
   ]
  },
  {
   "cell_type": "code",
   "execution_count": 99,
   "id": "9779f7ae",
   "metadata": {},
   "outputs": [],
   "source": [
    "class pwskills6:\n",
    "    \n",
    "    def __new__(cls):\n",
    "        print(\"this is my new\")\n",
    "    def __init__(self):\n",
    "        print(\"this is my init\")\n",
    "        self.mobile_number =45754355566"
   ]
  },
  {
   "cell_type": "code",
   "execution_count": 100,
   "id": "28b8c6f7",
   "metadata": {},
   "outputs": [
    {
     "name": "stdout",
     "output_type": "stream",
     "text": [
      "this is my new\n"
     ]
    }
   ],
   "source": [
    "pw=pwskills6()"
   ]
  },
  {
   "cell_type": "code",
   "execution_count": 101,
   "id": "b28dcb0a",
   "metadata": {},
   "outputs": [
    {
     "ename": "AttributeError",
     "evalue": "'NoneType' object has no attribute 'mobile_number'",
     "output_type": "error",
     "traceback": [
      "\u001b[1;31m---------------------------------------------------------------------------\u001b[0m",
      "\u001b[1;31mAttributeError\u001b[0m                            Traceback (most recent call last)",
      "\u001b[1;32m~\\AppData\\Local\\Temp\\ipykernel_9504\\4269989419.py\u001b[0m in \u001b[0;36m<module>\u001b[1;34m\u001b[0m\n\u001b[1;32m----> 1\u001b[1;33m \u001b[0mpw\u001b[0m\u001b[1;33m.\u001b[0m\u001b[0mmobile_number\u001b[0m\u001b[1;33m\u001b[0m\u001b[1;33m\u001b[0m\u001b[0m\n\u001b[0m",
      "\u001b[1;31mAttributeError\u001b[0m: 'NoneType' object has no attribute 'mobile_number'"
     ]
    }
   ],
   "source": [
    "pw.mobile_number"
   ]
  },
  {
   "cell_type": "code",
   "execution_count": 105,
   "id": "275c0692",
   "metadata": {},
   "outputs": [],
   "source": [
    "class pwskills7:\n",
    "    \n",
    "    def __init__(self):\n",
    "\n",
    "        self.mobile_number =45754355566\n",
    "    def __str__(self):\n",
    "        return \"this is my magic call of str\""
   ]
  },
  {
   "cell_type": "code",
   "execution_count": 106,
   "id": "79a6cae0",
   "metadata": {},
   "outputs": [],
   "source": [
    "pw1=pwskills7()"
   ]
  },
  {
   "cell_type": "code",
   "execution_count": 107,
   "id": "5e97c2a2",
   "metadata": {},
   "outputs": [
    {
     "data": {
      "text/plain": [
       "<__main__.pwskills7 at 0x174a9918e20>"
      ]
     },
     "execution_count": 107,
     "metadata": {},
     "output_type": "execute_result"
    }
   ],
   "source": [
    "pw1"
   ]
  },
  {
   "cell_type": "code",
   "execution_count": 108,
   "id": "487c73a4",
   "metadata": {},
   "outputs": [
    {
     "name": "stdout",
     "output_type": "stream",
     "text": [
      "this is my magic call of str\n"
     ]
    }
   ],
   "source": [
    "print(pw1)"
   ]
  },
  {
   "cell_type": "code",
   "execution_count": null,
   "id": "67c4392a",
   "metadata": {},
   "outputs": [],
   "source": []
  },
  {
   "cell_type": "code",
   "execution_count": null,
   "id": "6f98a7cc",
   "metadata": {},
   "outputs": [],
   "source": [
    "Property Decorators-Getters, Setters, and Deletes:="
   ]
  },
  {
   "cell_type": "code",
   "execution_count": 130,
   "id": "0156a779",
   "metadata": {},
   "outputs": [],
   "source": [
    "class pws:\n",
    "    def __init__(self,course_price,course_name):\n",
    "        self.__course_price = course_price\n",
    "        self.__course_name = course_name\n",
    "    @property\n",
    "    def course_price_access(self):\n",
    "        return self.__course_price\n",
    "    \n",
    "    @course_price_access.setter\n",
    "    def course_price_set(self,price):\n",
    "        if price<=3500:\n",
    "            pass\n",
    "        else:\n",
    "            self.__course_price=price\n",
    "    \n",
    "    @course_price_set.deleter\n",
    "    def course_price_price(self):\n",
    "        del self.__course_price"
   ]
  },
  {
   "cell_type": "code",
   "execution_count": null,
   "id": "421ab914",
   "metadata": {},
   "outputs": [],
   "source": []
  },
  {
   "cell_type": "code",
   "execution_count": 123,
   "id": "22216ce2",
   "metadata": {},
   "outputs": [],
   "source": [
    "pwe=pws(3250,\"data science mastres\")"
   ]
  },
  {
   "cell_type": "code",
   "execution_count": null,
   "id": "b5b9a730",
   "metadata": {},
   "outputs": [],
   "source": []
  },
  {
   "cell_type": "code",
   "execution_count": 124,
   "id": "8de20c41",
   "metadata": {},
   "outputs": [
    {
     "data": {
      "text/plain": [
       "3250"
      ]
     },
     "execution_count": 124,
     "metadata": {},
     "output_type": "execute_result"
    }
   ],
   "source": [
    "pwe.course_price_access"
   ]
  },
  {
   "cell_type": "code",
   "execution_count": 125,
   "id": "50dbb022",
   "metadata": {},
   "outputs": [
    {
     "data": {
      "text/plain": [
       "3250"
      ]
     },
     "execution_count": 125,
     "metadata": {},
     "output_type": "execute_result"
    }
   ],
   "source": [
    "pwe._pws__course_price"
   ]
  },
  {
   "cell_type": "code",
   "execution_count": 126,
   "id": "52246038",
   "metadata": {},
   "outputs": [
    {
     "data": {
      "text/plain": [
       "'data science mastres'"
      ]
     },
     "execution_count": 126,
     "metadata": {},
     "output_type": "execute_result"
    }
   ],
   "source": [
    "pwe._pws__course_name"
   ]
  },
  {
   "cell_type": "code",
   "execution_count": null,
   "id": "1aea4d45",
   "metadata": {},
   "outputs": [],
   "source": []
  }
 ],
 "metadata": {
  "kernelspec": {
   "display_name": "Python 3 (ipykernel)",
   "language": "python",
   "name": "python3"
  },
  "language_info": {
   "codemirror_mode": {
    "name": "ipython",
    "version": 3
   },
   "file_extension": ".py",
   "mimetype": "text/x-python",
   "name": "python",
   "nbconvert_exporter": "python",
   "pygments_lexer": "ipython3",
   "version": "3.9.13"
  }
 },
 "nbformat": 4,
 "nbformat_minor": 5
}
