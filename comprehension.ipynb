{
 "cells": [
  {
   "cell_type": "code",
   "execution_count": 10,
   "id": "d4bbd39f",
   "metadata": {},
   "outputs": [
    {
     "name": "stdout",
     "output_type": "stream",
     "text": [
      "[1, 4, 9, 16, 25, 20736]\n"
     ]
    }
   ],
   "source": [
    "j=[1,2,3,4,5,144]\n",
    "j1=[]\n",
    "for i in j:\n",
    "    j1.append(i**2)\n",
    "print(j1)    "
   ]
  },
  {
   "cell_type": "code",
   "execution_count": 11,
   "id": "89744e80",
   "metadata": {},
   "outputs": [
    {
     "data": {
      "text/plain": [
       "[1, 2, 3, 4, 5, 144]"
      ]
     },
     "execution_count": 11,
     "metadata": {},
     "output_type": "execute_result"
    }
   ],
   "source": [
    "j"
   ]
  },
  {
   "cell_type": "code",
   "execution_count": 12,
   "id": "cb42ae47",
   "metadata": {},
   "outputs": [
    {
     "data": {
      "text/plain": [
       "[1, 4, 9, 16, 25, 20736]"
      ]
     },
     "execution_count": 12,
     "metadata": {},
     "output_type": "execute_result"
    }
   ],
   "source": [
    "[i**2 for i in j]"
   ]
  },
  {
   "cell_type": "code",
   "execution_count": 13,
   "id": "98b8398b",
   "metadata": {},
   "outputs": [
    {
     "data": {
      "text/plain": [
       "[1, 2, 3, 4, 5, 144]"
      ]
     },
     "execution_count": 13,
     "metadata": {},
     "output_type": "execute_result"
    }
   ],
   "source": [
    "j"
   ]
  },
  {
   "cell_type": "code",
   "execution_count": 16,
   "id": "42f8df47",
   "metadata": {},
   "outputs": [
    {
     "data": {
      "text/plain": [
       "[2, 4, 144]"
      ]
     },
     "execution_count": 16,
     "metadata": {},
     "output_type": "execute_result"
    }
   ],
   "source": [
    "[i for i in j if i%2==0]"
   ]
  },
  {
   "cell_type": "code",
   "execution_count": 19,
   "id": "02e8cd02",
   "metadata": {},
   "outputs": [
    {
     "data": {
      "text/plain": [
       "['ANU', 'PWSKILLS', 'KUMAR', 'DATA SCIENCE']"
      ]
     },
     "execution_count": 19,
     "metadata": {},
     "output_type": "execute_result"
    }
   ],
   "source": [
    "j2=[\"anu\",\"pwskills\",\"kumar\",\"data science\"]\n",
    "[i.upper() for i in j2]"
   ]
  },
  {
   "cell_type": "code",
   "execution_count": null,
   "id": "86126a9a",
   "metadata": {},
   "outputs": [],
   "source": []
  }
 ],
 "metadata": {
  "kernelspec": {
   "display_name": "Python 3 (ipykernel)",
   "language": "python",
   "name": "python3"
  },
  "language_info": {
   "codemirror_mode": {
    "name": "ipython",
    "version": 3
   },
   "file_extension": ".py",
   "mimetype": "text/x-python",
   "name": "python",
   "nbconvert_exporter": "python",
   "pygments_lexer": "ipython3",
   "version": "3.9.13"
  }
 },
 "nbformat": 4,
 "nbformat_minor": 5
}
