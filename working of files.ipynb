{
 "cells": [
  {
   "cell_type": "code",
   "execution_count": null,
   "id": "41ea5094",
   "metadata": {},
   "outputs": [],
   "source": [
    "f=open(\"test.txt\" ,\"w\")\n"
   ]
  },
  {
   "cell_type": "code",
   "execution_count": null,
   "id": "fa32311e",
   "metadata": {},
   "outputs": [],
   "source": [
    "pwd"
   ]
  },
  {
   "cell_type": "code",
   "execution_count": null,
   "id": "695773b8",
   "metadata": {},
   "outputs": [],
   "source": [
    "ls"
   ]
  },
  {
   "cell_type": "code",
   "execution_count": null,
   "id": "2573c07a",
   "metadata": {},
   "outputs": [],
   "source": [
    "f.write(\"this is my file \")"
   ]
  },
  {
   "cell_type": "code",
   "execution_count": null,
   "id": "05367ea3",
   "metadata": {},
   "outputs": [],
   "source": [
    "ls"
   ]
  },
  {
   "cell_type": "code",
   "execution_count": null,
   "id": "f508ebed",
   "metadata": {},
   "outputs": [],
   "source": [
    "f.close()"
   ]
  },
  {
   "cell_type": "code",
   "execution_count": null,
   "id": "e52a0313",
   "metadata": {},
   "outputs": [],
   "source": [
    "f=open(\"test.txt\" , 'a')"
   ]
  },
  {
   "cell_type": "code",
   "execution_count": null,
   "id": "ab6ff6ad",
   "metadata": {},
   "outputs": [],
   "source": [
    "f.write(\"Write the python program to test \")"
   ]
  },
  {
   "cell_type": "code",
   "execution_count": null,
   "id": "a565bfcd",
   "metadata": {},
   "outputs": [],
   "source": [
    "f.close()"
   ]
  },
  {
   "cell_type": "code",
   "execution_count": null,
   "id": "68eb4449",
   "metadata": {},
   "outputs": [],
   "source": [
    "data=open(\"test.txt\" , \"r\")"
   ]
  },
  {
   "cell_type": "code",
   "execution_count": null,
   "id": "b2015ffb",
   "metadata": {},
   "outputs": [],
   "source": [
    "data.read()"
   ]
  },
  {
   "cell_type": "code",
   "execution_count": null,
   "id": "f9e0e389",
   "metadata": {},
   "outputs": [],
   "source": [
    "data.readline()"
   ]
  },
  {
   "cell_type": "code",
   "execution_count": null,
   "id": "e73f4da5",
   "metadata": {},
   "outputs": [],
   "source": [
    "data.seek(10)"
   ]
  },
  {
   "cell_type": "code",
   "execution_count": null,
   "id": "d2368dab",
   "metadata": {},
   "outputs": [],
   "source": [
    "data.readline()"
   ]
  },
  {
   "cell_type": "code",
   "execution_count": null,
   "id": "dd0f01f2",
   "metadata": {},
   "outputs": [],
   "source": [
    "data1= open(\"test.txt\",'r')"
   ]
  },
  {
   "cell_type": "code",
   "execution_count": null,
   "id": "5db4677b",
   "metadata": {},
   "outputs": [],
   "source": [
    "for i in data1:\n",
    "    \n",
    "    print(i)"
   ]
  },
  {
   "cell_type": "code",
   "execution_count": null,
   "id": "42d3bcbb",
   "metadata": {},
   "outputs": [],
   "source": [
    "import os"
   ]
  },
  {
   "cell_type": "code",
   "execution_count": null,
   "id": "5e26d960",
   "metadata": {},
   "outputs": [],
   "source": [
    "os.path.getsize(\"test.txt\")"
   ]
  },
  {
   "cell_type": "code",
   "execution_count": null,
   "id": "651e580d",
   "metadata": {},
   "outputs": [],
   "source": [
    "os.remove(\"test.txt\")"
   ]
  },
  {
   "cell_type": "code",
   "execution_count": null,
   "id": "5c88b846",
   "metadata": {},
   "outputs": [],
   "source": [
    "f=open(\"text1.txt\",\"w\")"
   ]
  },
  {
   "cell_type": "code",
   "execution_count": null,
   "id": "51f6f346",
   "metadata": {},
   "outputs": [],
   "source": [
    "f.write(\"The process cannot access the file because it is being used by another process:\" )"
   ]
  },
  {
   "cell_type": "code",
   "execution_count": null,
   "id": "3495a398",
   "metadata": {},
   "outputs": [],
   "source": [
    "f.close()"
   ]
  },
  {
   "cell_type": "code",
   "execution_count": null,
   "id": "8d996308",
   "metadata": {},
   "outputs": [],
   "source": [
    "os.rename(\"text1.txt\",\"new.txt\")"
   ]
  },
  {
   "cell_type": "code",
   "execution_count": null,
   "id": "29be6198",
   "metadata": {},
   "outputs": [],
   "source": [
    "import shutil"
   ]
  },
  {
   "cell_type": "code",
   "execution_count": null,
   "id": "73fe7be1",
   "metadata": {},
   "outputs": [],
   "source": [
    "shutil.copy(\"new.txt\",\"copy_new.txt\")"
   ]
  },
  {
   "cell_type": "raw",
   "id": "e45e9218",
   "metadata": {},
   "source": [
    "with open(\"new.txt \",\"r\") as f:\n",
    "    print( f.read())"
   ]
  },
  {
   "cell_type": "code",
   "execution_count": 6,
   "id": "b5399b25",
   "metadata": {},
   "outputs": [],
   "source": [
    "data ={\"name\" : 'anu',\"mail_id\" : \"anu@kumar.com\",\"phone_number\": 548797964,\n",
    "         \"subject\" : [\"data science\"  , \"big data\" ,\"data analytics\"]\n",
    "       }"
   ]
  },
  {
   "cell_type": "code",
   "execution_count": 7,
   "id": "8fea3e37",
   "metadata": {},
   "outputs": [],
   "source": [
    "import json"
   ]
  },
  {
   "cell_type": "code",
   "execution_count": 9,
   "id": "b1d62992",
   "metadata": {},
   "outputs": [],
   "source": [
    "with open(\"data.json\",\"w\") as f:\n",
    "    json.dump(data, f)"
   ]
  },
  {
   "cell_type": "code",
   "execution_count": 10,
   "id": "c3f2ba4e",
   "metadata": {},
   "outputs": [],
   "source": [
    "with open(\"data.json\",\"r\") as f:\n",
    "    data2= json.load(f)"
   ]
  },
  {
   "cell_type": "code",
   "execution_count": 11,
   "id": "a512fc18",
   "metadata": {},
   "outputs": [
    {
     "data": {
      "text/plain": [
       "{'name': 'anu',\n",
       " 'mail_id': 'anu@kumar.com',\n",
       " 'phone_number': 548797964,\n",
       " 'subject': ['data science', 'big data', 'data analytics']}"
      ]
     },
     "execution_count": 11,
     "metadata": {},
     "output_type": "execute_result"
    }
   ],
   "source": [
    "data2"
   ]
  },
  {
   "cell_type": "code",
   "execution_count": 13,
   "id": "0351dbcb",
   "metadata": {},
   "outputs": [
    {
     "data": {
      "text/plain": [
       "'big data'"
      ]
     },
     "execution_count": 13,
     "metadata": {},
     "output_type": "execute_result"
    }
   ],
   "source": [
    "data2[\"subject\"][1]"
   ]
  },
  {
   "cell_type": "code",
   "execution_count": 14,
   "id": "bc3eef12",
   "metadata": {},
   "outputs": [],
   "source": [
    "import csv"
   ]
  },
  {
   "cell_type": "code",
   "execution_count": 15,
   "id": "07af8e32",
   "metadata": {},
   "outputs": [],
   "source": [
    "data =[[\"name\" , \"email_id\"  , \"phone_number\"],\n",
    "      [\"anu\",\"anu@gamil.com\" ,5478754]]"
   ]
  },
  {
   "cell_type": "code",
   "execution_count": 19,
   "id": "8ae0feff",
   "metadata": {},
   "outputs": [],
   "source": [
    "with open(\"data.csv\"  ,\"w\") as f:\n",
    "    writer =csv.writer(f)\n",
    "    for i in data:\n",
    "        writer.writerow(i)"
   ]
  },
  {
   "cell_type": "code",
   "execution_count": 23,
   "id": "7db7c3a7",
   "metadata": {},
   "outputs": [
    {
     "name": "stdout",
     "output_type": "stream",
     "text": [
      "['name', 'email_id', 'phone_number']\n",
      "['anu', 'anu@gamil.com', 5478754]\n"
     ]
    }
   ],
   "source": [
    "with open(\"data.csv\" , \"r\") as f:\n",
    "    read_data=csv.reader(f)\n",
    "    \n",
    "    for i in data:\n",
    "        print(i)"
   ]
  },
  {
   "cell_type": "code",
   "execution_count": 27,
   "id": "98d43a78",
   "metadata": {},
   "outputs": [],
   "source": [
    "with open(\"test5.bin\"  , \"wb\") as f:\n",
    "    f.write(b\"\\x01\\x02\\x03\\x54875\")"
   ]
  },
  {
   "cell_type": "code",
   "execution_count": 28,
   "id": "3b7bb602",
   "metadata": {},
   "outputs": [
    {
     "name": "stdout",
     "output_type": "stream",
     "text": [
      "b'\\x01\\x02\\x03T875'\n"
     ]
    }
   ],
   "source": [
    "with open(\"test5.bin\" ,\"rb\") as f:\n",
    "    print(f.read())"
   ]
  },
  {
   "cell_type": "code",
   "execution_count": null,
   "id": "9f8f5b7e",
   "metadata": {},
   "outputs": [],
   "source": []
  }
 ],
 "metadata": {
  "kernelspec": {
   "display_name": "Python 3 (ipykernel)",
   "language": "python",
   "name": "python3"
  },
  "language_info": {
   "codemirror_mode": {
    "name": "ipython",
    "version": 3
   },
   "file_extension": ".py",
   "mimetype": "text/x-python",
   "name": "python",
   "nbconvert_exporter": "python",
   "pygments_lexer": "ipython3",
   "version": "3.9.13"
  }
 },
 "nbformat": 4,
 "nbformat_minor": 5
}
