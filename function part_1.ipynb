{
 "cells": [
  {
   "cell_type": "code",
   "execution_count": 1,
   "id": "624d4aa6",
   "metadata": {},
   "outputs": [
    {
     "name": "stdout",
     "output_type": "stream",
     "text": [
      "anurag kumar singh\n"
     ]
    }
   ],
   "source": [
    "print(\"anurag kumar singh\")"
   ]
  },
  {
   "cell_type": "code",
   "execution_count": 3,
   "id": "4e7daecb",
   "metadata": {},
   "outputs": [
    {
     "data": {
      "text/plain": [
       "4"
      ]
     },
     "execution_count": 3,
     "metadata": {},
     "output_type": "execute_result"
    }
   ],
   "source": [
    "k=[234,456,784,545]\n",
    "len(k)"
   ]
  },
  {
   "cell_type": "code",
   "execution_count": 4,
   "id": "65f5fc4e",
   "metadata": {},
   "outputs": [
    {
     "data": {
      "text/plain": [
       "list"
      ]
     },
     "execution_count": 4,
     "metadata": {},
     "output_type": "execute_result"
    }
   ],
   "source": [
    "type(k)"
   ]
  },
  {
   "cell_type": "code",
   "execution_count": 5,
   "id": "dac08cc8",
   "metadata": {},
   "outputs": [],
   "source": [
    "def test():\n",
    "    print(\"this is my first  function\")"
   ]
  },
  {
   "cell_type": "code",
   "execution_count": 6,
   "id": "ba2b1950",
   "metadata": {},
   "outputs": [
    {
     "name": "stdout",
     "output_type": "stream",
     "text": [
      "this is my first  function\n"
     ]
    }
   ],
   "source": [
    "test()"
   ]
  },
  {
   "cell_type": "code",
   "execution_count": 7,
   "id": "3d213bf8",
   "metadata": {},
   "outputs": [],
   "source": [
    "def test2():\n",
    "    return \"this is my first return\""
   ]
  },
  {
   "cell_type": "code",
   "execution_count": 11,
   "id": "ada2f51a",
   "metadata": {},
   "outputs": [
    {
     "data": {
      "text/plain": [
       "'this is my first return anurag'"
      ]
     },
     "execution_count": 11,
     "metadata": {},
     "output_type": "execute_result"
    }
   ],
   "source": [
    "test2()+  \" anurag\""
   ]
  },
  {
   "cell_type": "code",
   "execution_count": 13,
   "id": "daefa910",
   "metadata": {},
   "outputs": [],
   "source": [
    "def test3():\n",
    "    return \"anu\",23,45.45,[1,2,3,4]"
   ]
  },
  {
   "cell_type": "code",
   "execution_count": 14,
   "id": "1ed86b2c",
   "metadata": {},
   "outputs": [
    {
     "data": {
      "text/plain": [
       "('anu', 23, 45.45, [1, 2, 3, 4])"
      ]
     },
     "execution_count": 14,
     "metadata": {},
     "output_type": "execute_result"
    }
   ],
   "source": [
    "test3()"
   ]
  },
  {
   "cell_type": "code",
   "execution_count": 15,
   "id": "e50d2470",
   "metadata": {},
   "outputs": [],
   "source": [
    "a,b,c,d=test() "
   ]
  },
  {
   "cell_type": "code",
   "execution_count": 16,
   "id": "74ce7657",
   "metadata": {},
   "outputs": [
    {
     "data": {
      "text/plain": [
       "'anu'"
      ]
     },
     "execution_count": 16,
     "metadata": {},
     "output_type": "execute_result"
    }
   ],
   "source": [
    "a"
   ]
  },
  {
   "cell_type": "code",
   "execution_count": 17,
   "id": "b24ea1e1",
   "metadata": {},
   "outputs": [
    {
     "data": {
      "text/plain": [
       "23"
      ]
     },
     "execution_count": 17,
     "metadata": {},
     "output_type": "execute_result"
    }
   ],
   "source": [
    "b"
   ]
  },
  {
   "cell_type": "code",
   "execution_count": 18,
   "id": "78876d88",
   "metadata": {},
   "outputs": [
    {
     "data": {
      "text/plain": [
       "45.45"
      ]
     },
     "execution_count": 18,
     "metadata": {},
     "output_type": "execute_result"
    }
   ],
   "source": [
    "c"
   ]
  },
  {
   "cell_type": "code",
   "execution_count": 19,
   "id": "8a6b9498",
   "metadata": {},
   "outputs": [
    {
     "data": {
      "text/plain": [
       "[1, 2, 3, 4]"
      ]
     },
     "execution_count": 19,
     "metadata": {},
     "output_type": "execute_result"
    }
   ],
   "source": [
    "d"
   ]
  },
  {
   "cell_type": "code",
   "execution_count": 20,
   "id": "5eaafdbb",
   "metadata": {},
   "outputs": [],
   "source": [
    "a,b=1,4\n"
   ]
  },
  {
   "cell_type": "code",
   "execution_count": 23,
   "id": "b7dc08b2",
   "metadata": {},
   "outputs": [],
   "source": [
    "def test4():\n",
    "    a=5+6/7\n",
    "    return a"
   ]
  },
  {
   "cell_type": "code",
   "execution_count": 24,
   "id": "40da6322",
   "metadata": {},
   "outputs": [
    {
     "data": {
      "text/plain": [
       "5.857142857142857"
      ]
     },
     "execution_count": 24,
     "metadata": {},
     "output_type": "execute_result"
    }
   ],
   "source": [
    "test4()"
   ]
  },
  {
   "cell_type": "code",
   "execution_count": 25,
   "id": "cd3cc4e5",
   "metadata": {},
   "outputs": [],
   "source": [
    "def test(a,b,c):\n",
    "    d=a+b/5\n",
    "    return d"
   ]
  },
  {
   "cell_type": "code",
   "execution_count": 26,
   "id": "7c358a22",
   "metadata": {},
   "outputs": [
    {
     "data": {
      "text/plain": [
       "6.2"
      ]
     },
     "execution_count": 26,
     "metadata": {},
     "output_type": "execute_result"
    }
   ],
   "source": [
    "test(5,6,5)"
   ]
  },
  {
   "cell_type": "code",
   "execution_count": 33,
   "id": "a0a594cc",
   "metadata": {},
   "outputs": [],
   "source": [
    "def test6(a,b):\n",
    "    return a+b\n"
   ]
  },
  {
   "cell_type": "code",
   "execution_count": 34,
   "id": "e34d4ade",
   "metadata": {},
   "outputs": [
    {
     "data": {
      "text/plain": [
       "11"
      ]
     },
     "execution_count": 34,
     "metadata": {},
     "output_type": "execute_result"
    }
   ],
   "source": [
    "test6(5,6)"
   ]
  },
  {
   "cell_type": "code",
   "execution_count": 36,
   "id": "19ed52af",
   "metadata": {},
   "outputs": [
    {
     "data": {
      "text/plain": [
       "'sudh kumar'"
      ]
     },
     "execution_count": 36,
     "metadata": {},
     "output_type": "execute_result"
    }
   ],
   "source": [
    "test6(\"sudh\",\" kumar\")"
   ]
  },
  {
   "cell_type": "code",
   "execution_count": 39,
   "id": "92482e48",
   "metadata": {},
   "outputs": [
    {
     "data": {
      "text/plain": [
       "[1, 2, 3, 4, 5, 4, 5, 6]"
      ]
     },
     "execution_count": 39,
     "metadata": {},
     "output_type": "execute_result"
    }
   ],
   "source": [
    "test6([1,2,3,4,5],[4,5,6])"
   ]
  },
  {
   "cell_type": "code",
   "execution_count": 44,
   "id": "937a76b7",
   "metadata": {},
   "outputs": [],
   "source": [
    "z=[1,2,3,4,\"anu\",\"kumar\",[1,2,3,4,5,6]]\n",
    "def test7(z):\n",
    "    z1=[]\n",
    "    for i in z:\n",
    "        if type(i)==int or type(i)==float:\n",
    "            z1.append(i)\n",
    "    return z1        \n",
    "    "
   ]
  },
  {
   "cell_type": "code",
   "execution_count": 46,
   "id": "6baa1af7",
   "metadata": {},
   "outputs": [
    {
     "data": {
      "text/plain": [
       "[1, 2, 3, 4]"
      ]
     },
     "execution_count": 46,
     "metadata": {},
     "output_type": "execute_result"
    }
   ],
   "source": [
    "test7(z)"
   ]
  },
  {
   "cell_type": "code",
   "execution_count": 54,
   "id": "c710962e",
   "metadata": {},
   "outputs": [],
   "source": [
    "def test8(a):\n",
    "    s = []\n",
    "    for i in a:\n",
    "        if type(i) == list:\n",
    "            for j in i:\n",
    "                s.append(j)\n",
    "        else:\n",
    "            if type(i)==int or type(i)==float:\n",
    "                s.append(i)\n",
    "    return s         \n",
    "                "
   ]
  },
  {
   "cell_type": "code",
   "execution_count": 55,
   "id": "04825c47",
   "metadata": {},
   "outputs": [
    {
     "data": {
      "text/plain": [
       "[1, 2, 3, 4, 1, 2, 3, 4, 5, 6]"
      ]
     },
     "execution_count": 55,
     "metadata": {},
     "output_type": "execute_result"
    }
   ],
   "source": [
    "test8(z)"
   ]
  },
  {
   "cell_type": "code",
   "execution_count": null,
   "id": "69fa2eea",
   "metadata": {},
   "outputs": [],
   "source": [
    "def test10(a,b):\n",
    "    return a+b\n"
   ]
  },
  {
   "cell_type": "code",
   "execution_count": 60,
   "id": "91726670",
   "metadata": {},
   "outputs": [],
   "source": [
    "def test11(*args):\n",
    "    return args"
   ]
  },
  {
   "cell_type": "code",
   "execution_count": 61,
   "id": "60d536a7",
   "metadata": {},
   "outputs": [
    {
     "data": {
      "text/plain": [
       "(1, 2, 3, 'anurag', 'kumar', [1, 2, 3, 4, 5])"
      ]
     },
     "execution_count": 61,
     "metadata": {},
     "output_type": "execute_result"
    }
   ],
   "source": [
    "test11(1,2,3,\"anurag\",\"kumar\",[1,2,3,4,5])"
   ]
  },
  {
   "cell_type": "code",
   "execution_count": 62,
   "id": "944b89aa",
   "metadata": {},
   "outputs": [],
   "source": [
    "def test12(*args,a):\n",
    "    return args,a\n"
   ]
  },
  {
   "cell_type": "code",
   "execution_count": 63,
   "id": "aad83d1b",
   "metadata": {},
   "outputs": [
    {
     "data": {
      "text/plain": [
       "(((1, 2, 3, 4),), 45)"
      ]
     },
     "execution_count": 63,
     "metadata": {},
     "output_type": "execute_result"
    }
   ],
   "source": [
    "test12((1,2,3,4),a=45)"
   ]
  },
  {
   "cell_type": "code",
   "execution_count": 64,
   "id": "4979616d",
   "metadata": {},
   "outputs": [],
   "source": [
    "def test14(a,b,c=23,d=1):\n",
    "    return a,b,c,d"
   ]
  },
  {
   "cell_type": "code",
   "execution_count": 66,
   "id": "4eaeaa58",
   "metadata": {},
   "outputs": [
    {
     "data": {
      "text/plain": [
       "(2, 4, 23, 1)"
      ]
     },
     "execution_count": 66,
     "metadata": {},
     "output_type": "execute_result"
    }
   ],
   "source": [
    "test14(2,4)"
   ]
  },
  {
   "cell_type": "code",
   "execution_count": 71,
   "id": "b9ba792c",
   "metadata": {},
   "outputs": [
    {
     "data": {
      "text/plain": [
       "(2, 3, 2354, 1)"
      ]
     },
     "execution_count": 71,
     "metadata": {},
     "output_type": "execute_result"
    }
   ],
   "source": [
    "test14(2,3,c=2354)"
   ]
  },
  {
   "cell_type": "code",
   "execution_count": 77,
   "id": "e3e4c781",
   "metadata": {},
   "outputs": [],
   "source": [
    "def test15(**anu):\n",
    "    return anu"
   ]
  },
  {
   "cell_type": "code",
   "execution_count": 78,
   "id": "0a0ccbd1",
   "metadata": {},
   "outputs": [
    {
     "data": {
      "text/plain": [
       "{}"
      ]
     },
     "execution_count": 78,
     "metadata": {},
     "output_type": "execute_result"
    }
   ],
   "source": [
    "test15()"
   ]
  },
  {
   "cell_type": "code",
   "execution_count": 79,
   "id": "6754fd52",
   "metadata": {},
   "outputs": [
    {
     "data": {
      "text/plain": [
       "{'a': [1, 2, 3, 4], 'b': 'anu', 'c': 154.25}"
      ]
     },
     "execution_count": 79,
     "metadata": {},
     "output_type": "execute_result"
    }
   ],
   "source": [
    "test15(a=[1,2,3,4],b=\"anu\",c=154.25)"
   ]
  },
  {
   "cell_type": "code",
   "execution_count": null,
   "id": "f200dec0",
   "metadata": {},
   "outputs": [],
   "source": []
  }
 ],
 "metadata": {
  "kernelspec": {
   "display_name": "Python 3 (ipykernel)",
   "language": "python",
   "name": "python3"
  },
  "language_info": {
   "codemirror_mode": {
    "name": "ipython",
    "version": 3
   },
   "file_extension": ".py",
   "mimetype": "text/x-python",
   "name": "python",
   "nbconvert_exporter": "python",
   "pygments_lexer": "ipython3",
   "version": "3.9.13"
  }
 },
 "nbformat": 4,
 "nbformat_minor": 5
}
