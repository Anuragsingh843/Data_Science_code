{
 "cells": [
  {
   "cell_type": "code",
   "execution_count": null,
   "id": "8298cf43",
   "metadata": {},
   "outputs": [],
   "source": [
    "# use always a specific exception"
   ]
  },
  {
   "cell_type": "code",
   "execution_count": 2,
   "id": "13d7898a",
   "metadata": {},
   "outputs": [
    {
     "name": "stdout",
     "output_type": "stream",
     "text": [
      "division by zero\n"
     ]
    }
   ],
   "source": [
    "try:\n",
    "    10/0\n",
    "except ZeroDivisionError as e:\n",
    "        print(e)"
   ]
  },
  {
   "cell_type": "code",
   "execution_count": 5,
   "id": "166e3aad",
   "metadata": {},
   "outputs": [],
   "source": [
    "#always try to log your error\n",
    "import logging\n",
    "logging.basicConfig(filename =\"error.log\" , level =logging.ERROR)\n",
    "try:\n",
    "    10/0\n",
    "except ZeroDivisionError as e:\n",
    "    logging.error(\" i am trying to handle a zerodivisionerror {}\".format(e))"
   ]
  },
  {
   "cell_type": "code",
   "execution_count": 6,
   "id": "e3efa58a",
   "metadata": {},
   "outputs": [],
   "source": [
    "# always avoid to write a multiple exception handling \n",
    "try:\n",
    "    10/0\n",
    "except ZeroDivisionError as e:\n",
    "    logging.error(\" i am trying to handle a zerodivisionerror {}\".format(e))    "
   ]
  },
  {
   "cell_type": "code",
   "execution_count": 7,
   "id": "1610f1ae",
   "metadata": {},
   "outputs": [],
   "source": [
    "#document all the error\n",
    "#cleanup all the resourses\n",
    "try:\n",
    "    with open(\"test.txt\", \"w\") as f:\n",
    "        f.write(\"this is my data to file\")\n",
    "except FileNotFoundError as e:\n",
    "    logging.error(\"i am handling file not found {}\".format(e))"
   ]
  },
  {
   "cell_type": "code",
   "execution_count": null,
   "id": "26b53d21",
   "metadata": {},
   "outputs": [],
   "source": []
  },
  {
   "cell_type": "code",
   "execution_count": null,
   "id": "072672ed",
   "metadata": {},
   "outputs": [],
   "source": []
  }
 ],
 "metadata": {
  "kernelspec": {
   "display_name": "Python 3 (ipykernel)",
   "language": "python",
   "name": "python3"
  },
  "language_info": {
   "codemirror_mode": {
    "name": "ipython",
    "version": 3
   },
   "file_extension": ".py",
   "mimetype": "text/x-python",
   "name": "python",
   "nbconvert_exporter": "python",
   "pygments_lexer": "ipython3",
   "version": "3.9.13"
  }
 },
 "nbformat": 4,
 "nbformat_minor": 5
}
