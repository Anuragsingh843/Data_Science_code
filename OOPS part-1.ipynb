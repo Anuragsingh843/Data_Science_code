{
 "cells": [
  {
   "cell_type": "code",
   "execution_count": null,
   "id": "4f2901f8",
   "metadata": {},
   "outputs": [],
   "source": [
    "a=1\n",
    "print(type(a))"
   ]
  },
  {
   "cell_type": "code",
   "execution_count": null,
   "id": "660f75ab",
   "metadata": {},
   "outputs": [],
   "source": [
    "print(type(\"pwskills\"))"
   ]
  },
  {
   "cell_type": "code",
   "execution_count": null,
   "id": "f0c900bf",
   "metadata": {},
   "outputs": [],
   "source": [
    "class test:\n",
    "    pass"
   ]
  },
  {
   "cell_type": "code",
   "execution_count": null,
   "id": "46bb079b",
   "metadata": {},
   "outputs": [],
   "source": [
    "ae=test()\n",
    "type(ae)"
   ]
  },
  {
   "cell_type": "code",
   "execution_count": null,
   "id": "0b73fce2",
   "metadata": {},
   "outputs": [],
   "source": [
    "print(type(ae))"
   ]
  },
  {
   "cell_type": "code",
   "execution_count": null,
   "id": "3e15a76f",
   "metadata": {},
   "outputs": [],
   "source": [
    "class pwskills:\n",
    "    def welcome_msg(self):\n",
    "        print (\"welcome to pwskills\")"
   ]
  },
  {
   "cell_type": "code",
   "execution_count": null,
   "id": "f783d7ee",
   "metadata": {},
   "outputs": [],
   "source": [
    "anurag = pwskills()\n",
    "print(type(anurag))"
   ]
  },
  {
   "cell_type": "code",
   "execution_count": null,
   "id": "7649b944",
   "metadata": {},
   "outputs": [],
   "source": [
    "anurag.welcome_msg()"
   ]
  },
  {
   "cell_type": "code",
   "execution_count": null,
   "id": "dd54b285",
   "metadata": {},
   "outputs": [],
   "source": [
    "aniket=pwskills()"
   ]
  },
  {
   "cell_type": "code",
   "execution_count": null,
   "id": "f47a172a",
   "metadata": {},
   "outputs": [],
   "source": [
    "aniket.welcome_msg()"
   ]
  },
  {
   "cell_type": "code",
   "execution_count": 1,
   "id": "3919ea63",
   "metadata": {},
   "outputs": [],
   "source": [
    "class pwskills2 :\n",
    "    \n",
    "    def __init__(self ,phone_number,email_id,student_id):\n",
    "        self.phone_number = phone_number\n",
    "        self.email_id = email_id\n",
    "        self.student_id = student_id\n",
    "        \n",
    "    def return_student_details(self):\n",
    "        return self.student_id , self.phone_number,self.email_id"
   ]
  },
  {
   "cell_type": "code",
   "execution_count": null,
   "id": "11574e85",
   "metadata": {},
   "outputs": [],
   "source": []
  },
  {
   "cell_type": "code",
   "execution_count": null,
   "id": "83a8f0a1",
   "metadata": {},
   "outputs": [],
   "source": []
  },
  {
   "cell_type": "code",
   "execution_count": 3,
   "id": "404ae8ff",
   "metadata": {},
   "outputs": [],
   "source": [
    "amar = pwskills2(1212,\"hfyfhjg\",102)"
   ]
  },
  {
   "cell_type": "code",
   "execution_count": 4,
   "id": "90e679a0",
   "metadata": {},
   "outputs": [
    {
     "data": {
      "text/plain": [
       "(102, 1212, 'hfyfhjg')"
      ]
     },
     "execution_count": 4,
     "metadata": {},
     "output_type": "execute_result"
    }
   ],
   "source": [
    "amar.return_student_details()"
   ]
  },
  {
   "cell_type": "markdown",
   "id": "e080d73c",
   "metadata": {},
   "source": []
  },
  {
   "cell_type": "code",
   "execution_count": null,
   "id": "3ce25157",
   "metadata": {},
   "outputs": [],
   "source": []
  }
 ],
 "metadata": {
  "kernelspec": {
   "display_name": "Python 3 (ipykernel)",
   "language": "python",
   "name": "python3"
  },
  "language_info": {
   "codemirror_mode": {
    "name": "ipython",
    "version": 3
   },
   "file_extension": ".py",
   "mimetype": "text/x-python",
   "name": "python",
   "nbconvert_exporter": "python",
   "pygments_lexer": "ipython3",
   "version": "3.9.13"
  }
 },
 "nbformat": 4,
 "nbformat_minor": 5
}
