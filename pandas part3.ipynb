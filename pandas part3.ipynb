{
 "cells": [
  {
   "cell_type": "code",
   "execution_count": 1,
   "id": "fe8363eb",
   "metadata": {},
   "outputs": [],
   "source": [
    "import pandas as pd"
   ]
  },
  {
   "cell_type": "code",
   "execution_count": 2,
   "id": "d1137272",
   "metadata": {},
   "outputs": [],
   "source": [
    "df=pd.read_csv(\"services.csv\")"
   ]
  },
  {
   "cell_type": "code",
   "execution_count": 3,
   "id": "2c7b1639",
   "metadata": {},
   "outputs": [
    {
     "data": {
      "text/plain": [
       "Index(['id', 'location_id', 'program_id', 'accepted_payments',\n",
       "       'alternate_name', 'application_process', 'audience', 'description',\n",
       "       'eligibility', 'email', 'fees', 'funding_sources',\n",
       "       'interpretation_services', 'keywords', 'languages', 'name',\n",
       "       'required_documents', 'service_areas', 'status', 'wait_time', 'website',\n",
       "       'taxonomy_ids'],\n",
       "      dtype='object')"
      ]
     },
     "execution_count": 3,
     "metadata": {},
     "output_type": "execute_result"
    }
   ],
   "source": [
    "df.columns"
   ]
  },
  {
   "cell_type": "code",
   "execution_count": 8,
   "id": "e6aaab84",
   "metadata": {},
   "outputs": [],
   "source": [
    "s=df[\"keywords\"][0:12]"
   ]
  },
  {
   "cell_type": "code",
   "execution_count": 9,
   "id": "cf048557",
   "metadata": {},
   "outputs": [
    {
     "data": {
      "text/plain": [
       "0     ADULT PROTECTION AND CARE SERVICES, Meal Sites...\n",
       "1     EMPLOYMENT/TRAINING SERVICES, Job Development,...\n",
       "2     Geriatric Counseling, Older Adults, Gay, Lesbi...\n",
       "3     INDIVIDUAL AND FAMILY DEVELOPMENT SERVICES, Gr...\n",
       "4        COMMUNITY SERVICES, Speakers, Automobile Loans\n",
       "5     ADULT PROTECTION AND CARE SERVICES, In-Home Su...\n",
       "6     ADULT PROTECTION AND CARE SERVICES, Adult Day ...\n",
       "7     ADULT PROTECTION AND CARE SERVICES, Meal Sites...\n",
       "8     EDUCATION SERVICES, Library, Libraries, Public...\n",
       "9     EDUCATION SERVICES, Library, Libraries, Public...\n",
       "10    EDUCATION SERVICES, Library, Libraries, Public...\n",
       "11    EDUCATION SERVICES, Adult, Alternative, Litera...\n",
       "Name: keywords, dtype: object"
      ]
     },
     "execution_count": 9,
     "metadata": {},
     "output_type": "execute_result"
    }
   ],
   "source": [
    "s"
   ]
  },
  {
   "cell_type": "code",
   "execution_count": 10,
   "id": "0b40e958",
   "metadata": {},
   "outputs": [
    {
     "data": {
      "text/plain": [
       "12"
      ]
     },
     "execution_count": 10,
     "metadata": {},
     "output_type": "execute_result"
    }
   ],
   "source": [
    "len(s)"
   ]
  },
  {
   "cell_type": "code",
   "execution_count": 11,
   "id": "882b1e63",
   "metadata": {},
   "outputs": [
    {
     "data": {
      "text/plain": [
       "pandas.core.series.Series"
      ]
     },
     "execution_count": 11,
     "metadata": {},
     "output_type": "execute_result"
    }
   ],
   "source": [
    "type(s)"
   ]
  },
  {
   "cell_type": "code",
   "execution_count": 12,
   "id": "a31c1dfe",
   "metadata": {},
   "outputs": [
    {
     "data": {
      "text/plain": [
       "0     ADULT PROTECTION AND CARE SERVICES, Meal Sites...\n",
       "1     EMPLOYMENT/TRAINING SERVICES, Job Development,...\n",
       "2     Geriatric Counseling, Older Adults, Gay, Lesbi...\n",
       "3     INDIVIDUAL AND FAMILY DEVELOPMENT SERVICES, Gr...\n",
       "4        COMMUNITY SERVICES, Speakers, Automobile Loans\n",
       "5     ADULT PROTECTION AND CARE SERVICES, In-Home Su...\n",
       "6     ADULT PROTECTION AND CARE SERVICES, Adult Day ...\n",
       "7     ADULT PROTECTION AND CARE SERVICES, Meal Sites...\n",
       "8     EDUCATION SERVICES, Library, Libraries, Public...\n",
       "9     EDUCATION SERVICES, Library, Libraries, Public...\n",
       "10    EDUCATION SERVICES, Library, Libraries, Public...\n",
       "11    EDUCATION SERVICES, Adult, Alternative, Litera...\n",
       "Name: keywords, dtype: object"
      ]
     },
     "execution_count": 12,
     "metadata": {},
     "output_type": "execute_result"
    }
   ],
   "source": [
    "s"
   ]
  },
  {
   "cell_type": "code",
   "execution_count": 13,
   "id": "8129b19f",
   "metadata": {},
   "outputs": [],
   "source": [
    "l=[\"a\",\"b\",\"c\",\"d\",\"e\",\"f\",\"g\",\"h\",\"i\",\"j\",\"k\",\"l\"]"
   ]
  },
  {
   "cell_type": "code",
   "execution_count": 17,
   "id": "282ec5b3",
   "metadata": {},
   "outputs": [],
   "source": [
    "s1=pd.Series(list(s),index=l)"
   ]
  },
  {
   "cell_type": "code",
   "execution_count": 18,
   "id": "29dcecf7",
   "metadata": {},
   "outputs": [
    {
     "data": {
      "text/plain": [
       "a    ADULT PROTECTION AND CARE SERVICES, Meal Sites...\n",
       "b    EMPLOYMENT/TRAINING SERVICES, Job Development,...\n",
       "c    Geriatric Counseling, Older Adults, Gay, Lesbi...\n",
       "d    INDIVIDUAL AND FAMILY DEVELOPMENT SERVICES, Gr...\n",
       "e       COMMUNITY SERVICES, Speakers, Automobile Loans\n",
       "f    ADULT PROTECTION AND CARE SERVICES, In-Home Su...\n",
       "g    ADULT PROTECTION AND CARE SERVICES, Adult Day ...\n",
       "h    ADULT PROTECTION AND CARE SERVICES, Meal Sites...\n",
       "i    EDUCATION SERVICES, Library, Libraries, Public...\n",
       "j    EDUCATION SERVICES, Library, Libraries, Public...\n",
       "k    EDUCATION SERVICES, Library, Libraries, Public...\n",
       "l    EDUCATION SERVICES, Adult, Alternative, Litera...\n",
       "dtype: object"
      ]
     },
     "execution_count": 18,
     "metadata": {},
     "output_type": "execute_result"
    }
   ],
   "source": [
    "s1"
   ]
  },
  {
   "cell_type": "code",
   "execution_count": 19,
   "id": "5970cea5",
   "metadata": {},
   "outputs": [
    {
     "data": {
      "text/plain": [
       "0     ADULT PROTECTION AND CARE SERVICES, Meal Sites...\n",
       "1     EMPLOYMENT/TRAINING SERVICES, Job Development,...\n",
       "2     Geriatric Counseling, Older Adults, Gay, Lesbi...\n",
       "3     INDIVIDUAL AND FAMILY DEVELOPMENT SERVICES, Gr...\n",
       "4        COMMUNITY SERVICES, Speakers, Automobile Loans\n",
       "5     ADULT PROTECTION AND CARE SERVICES, In-Home Su...\n",
       "6     ADULT PROTECTION AND CARE SERVICES, Adult Day ...\n",
       "7     ADULT PROTECTION AND CARE SERVICES, Meal Sites...\n",
       "8     EDUCATION SERVICES, Library, Libraries, Public...\n",
       "9     EDUCATION SERVICES, Library, Libraries, Public...\n",
       "10    EDUCATION SERVICES, Library, Libraries, Public...\n",
       "11    EDUCATION SERVICES, Adult, Alternative, Litera...\n",
       "Name: keywords, dtype: object"
      ]
     },
     "execution_count": 19,
     "metadata": {},
     "output_type": "execute_result"
    }
   ],
   "source": [
    "s"
   ]
  },
  {
   "cell_type": "code",
   "execution_count": 21,
   "id": "22ef3b4b",
   "metadata": {},
   "outputs": [
    {
     "data": {
      "text/plain": [
       "'ADULT PROTECTION AND CARE SERVICES, Meal Sites/Home-delivered Mea, COMMUNITY SERVICES, Group Support, Information and Referral, EDUCATION SERVICES, English Language, RECREATION/LEISURE SERVICES, Arts and Crafts, Sports/Games/Exercise, Brown Bag Food Programs, Congregate Meals/Nutrition Sites, Senior Centers, Older Adults'"
      ]
     },
     "execution_count": 21,
     "metadata": {},
     "output_type": "execute_result"
    }
   ],
   "source": [
    "s1[\"a\"]"
   ]
  },
  {
   "cell_type": "code",
   "execution_count": 24,
   "id": "a094fe6a",
   "metadata": {},
   "outputs": [
    {
     "name": "stderr",
     "output_type": "stream",
     "text": [
      "C:\\Users\\anura\\AppData\\Local\\Temp\\ipykernel_4716\\2552242485.py:1: FutureWarning: The series.append method is deprecated and will be removed from pandas in a future version. Use pandas.concat instead.\n",
      "  s2=s1.append(s)\n"
     ]
    }
   ],
   "source": [
    "s2=s1.append(s)"
   ]
  },
  {
   "cell_type": "code",
   "execution_count": 25,
   "id": "71edb389",
   "metadata": {},
   "outputs": [
    {
     "data": {
      "text/plain": [
       "a     ADULT PROTECTION AND CARE SERVICES, Meal Sites...\n",
       "b     EMPLOYMENT/TRAINING SERVICES, Job Development,...\n",
       "c     Geriatric Counseling, Older Adults, Gay, Lesbi...\n",
       "d     INDIVIDUAL AND FAMILY DEVELOPMENT SERVICES, Gr...\n",
       "e        COMMUNITY SERVICES, Speakers, Automobile Loans\n",
       "f     ADULT PROTECTION AND CARE SERVICES, In-Home Su...\n",
       "g     ADULT PROTECTION AND CARE SERVICES, Adult Day ...\n",
       "h     ADULT PROTECTION AND CARE SERVICES, Meal Sites...\n",
       "i     EDUCATION SERVICES, Library, Libraries, Public...\n",
       "j     EDUCATION SERVICES, Library, Libraries, Public...\n",
       "k     EDUCATION SERVICES, Library, Libraries, Public...\n",
       "l     EDUCATION SERVICES, Adult, Alternative, Litera...\n",
       "0     ADULT PROTECTION AND CARE SERVICES, Meal Sites...\n",
       "1     EMPLOYMENT/TRAINING SERVICES, Job Development,...\n",
       "2     Geriatric Counseling, Older Adults, Gay, Lesbi...\n",
       "3     INDIVIDUAL AND FAMILY DEVELOPMENT SERVICES, Gr...\n",
       "4        COMMUNITY SERVICES, Speakers, Automobile Loans\n",
       "5     ADULT PROTECTION AND CARE SERVICES, In-Home Su...\n",
       "6     ADULT PROTECTION AND CARE SERVICES, Adult Day ...\n",
       "7     ADULT PROTECTION AND CARE SERVICES, Meal Sites...\n",
       "8     EDUCATION SERVICES, Library, Libraries, Public...\n",
       "9     EDUCATION SERVICES, Library, Libraries, Public...\n",
       "10    EDUCATION SERVICES, Library, Libraries, Public...\n",
       "11    EDUCATION SERVICES, Adult, Alternative, Litera...\n",
       "dtype: object"
      ]
     },
     "execution_count": 25,
     "metadata": {},
     "output_type": "execute_result"
    }
   ],
   "source": [
    "s2"
   ]
  },
  {
   "cell_type": "code",
   "execution_count": 26,
   "id": "62e0f7d2",
   "metadata": {},
   "outputs": [
    {
     "data": {
      "text/plain": [
       "'ADULT PROTECTION AND CARE SERVICES, Meal Sites/Home-delivered Mea, COMMUNITY SERVICES, Group Support, Information and Referral, EDUCATION SERVICES, English Language, RECREATION/LEISURE SERVICES, Arts and Crafts, Sports/Games/Exercise, Brown Bag Food Programs, Congregate Meals/Nutrition Sites, Senior Centers, Older Adults'"
      ]
     },
     "execution_count": 26,
     "metadata": {},
     "output_type": "execute_result"
    }
   ],
   "source": [
    "s2[0]"
   ]
  },
  {
   "cell_type": "code",
   "execution_count": 44,
   "id": "ca12a7aa",
   "metadata": {},
   "outputs": [],
   "source": [
    "s4=pd.Series([3,5,6,4,8] , index=[2,3,4,5,6])"
   ]
  },
  {
   "cell_type": "code",
   "execution_count": 45,
   "id": "fb5b2e75",
   "metadata": {},
   "outputs": [],
   "source": [
    "s5=pd.Series([3,58,6,4,87] , index=[2,3,74,5,46])"
   ]
  },
  {
   "cell_type": "code",
   "execution_count": 46,
   "id": "c186bcf7",
   "metadata": {},
   "outputs": [
    {
     "name": "stderr",
     "output_type": "stream",
     "text": [
      "C:\\Users\\anura\\AppData\\Local\\Temp\\ipykernel_4716\\884104408.py:1: FutureWarning: The series.append method is deprecated and will be removed from pandas in a future version. Use pandas.concat instead.\n",
      "  s6=s4.append(s5)\n"
     ]
    }
   ],
   "source": [
    "s6=s4.append(s5)"
   ]
  },
  {
   "cell_type": "code",
   "execution_count": 47,
   "id": "ba10d039",
   "metadata": {},
   "outputs": [
    {
     "data": {
      "text/plain": [
       "2      3\n",
       "3      5\n",
       "4      6\n",
       "5      4\n",
       "6      8\n",
       "2      3\n",
       "3     58\n",
       "74     6\n",
       "5      4\n",
       "46    87\n",
       "dtype: int64"
      ]
     },
     "execution_count": 47,
     "metadata": {},
     "output_type": "execute_result"
    }
   ],
   "source": [
    "s6"
   ]
  },
  {
   "cell_type": "code",
   "execution_count": 48,
   "id": "6847ca9a",
   "metadata": {},
   "outputs": [
    {
     "data": {
      "text/plain": [
       "6"
      ]
     },
     "execution_count": 48,
     "metadata": {},
     "output_type": "execute_result"
    }
   ],
   "source": [
    "s6[4]"
   ]
  },
  {
   "cell_type": "code",
   "execution_count": 49,
   "id": "31282214",
   "metadata": {},
   "outputs": [
    {
     "data": {
      "text/plain": [
       "2    3\n",
       "3    5\n",
       "4    6\n",
       "5    4\n",
       "6    8\n",
       "dtype: int64"
      ]
     },
     "execution_count": 49,
     "metadata": {},
     "output_type": "execute_result"
    }
   ],
   "source": [
    "s4"
   ]
  },
  {
   "cell_type": "code",
   "execution_count": 50,
   "id": "dc7d7d2d",
   "metadata": {},
   "outputs": [
    {
     "data": {
      "text/plain": [
       "2      3\n",
       "3     58\n",
       "74     6\n",
       "5      4\n",
       "46    87\n",
       "dtype: int64"
      ]
     },
     "execution_count": 50,
     "metadata": {},
     "output_type": "execute_result"
    }
   ],
   "source": [
    "s5"
   ]
  },
  {
   "cell_type": "code",
   "execution_count": 51,
   "id": "addbe6aa",
   "metadata": {},
   "outputs": [
    {
     "data": {
      "text/plain": [
       "2       9.0\n",
       "3     290.0\n",
       "4       NaN\n",
       "5      16.0\n",
       "6       NaN\n",
       "46      NaN\n",
       "74      NaN\n",
       "dtype: float64"
      ]
     },
     "execution_count": 51,
     "metadata": {},
     "output_type": "execute_result"
    }
   ],
   "source": [
    "s4*s5"
   ]
  },
  {
   "cell_type": "code",
   "execution_count": 52,
   "id": "34c0ddb9",
   "metadata": {},
   "outputs": [
    {
     "data": {
      "text/plain": [
       "2      6.0\n",
       "3     63.0\n",
       "4      NaN\n",
       "5      8.0\n",
       "6      NaN\n",
       "46     NaN\n",
       "74     NaN\n",
       "dtype: float64"
      ]
     },
     "execution_count": 52,
     "metadata": {},
     "output_type": "execute_result"
    }
   ],
   "source": [
    "s4+s5"
   ]
  },
  {
   "cell_type": "code",
   "execution_count": null,
   "id": "bcd7f94b",
   "metadata": {},
   "outputs": [],
   "source": []
  }
 ],
 "metadata": {
  "kernelspec": {
   "display_name": "Python 3 (ipykernel)",
   "language": "python",
   "name": "python3"
  },
  "language_info": {
   "codemirror_mode": {
    "name": "ipython",
    "version": 3
   },
   "file_extension": ".py",
   "mimetype": "text/x-python",
   "name": "python",
   "nbconvert_exporter": "python",
   "pygments_lexer": "ipython3",
   "version": "3.9.13"
  }
 },
 "nbformat": 4,
 "nbformat_minor": 5
}
